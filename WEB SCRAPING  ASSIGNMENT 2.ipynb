{
 "cells": [
  {
   "cell_type": "code",
   "execution_count": 1,
   "id": "c5a3aba3",
   "metadata": {},
   "outputs": [],
   "source": [
    "import selenium\n",
    "import pandas as pd\n",
    "from selenium import webdriver\n",
    "from selenium.webdriver.common.by import By\n",
    "import warnings\n",
    "warnings.filterwarnings('ignore')"
   ]
  },
  {
   "cell_type": "markdown",
   "id": "1973e674",
   "metadata": {},
   "source": [
    "Q1: Write a python program to scrape data for “Data Analyst” Job position in “Bangalore” location. You \n",
    "have to scrape the job-title, job-location, company_name, experience_required. You have to scrape first 10 \n",
    "jobs data.\n",
    "This task will be done in following steps:\n",
    "1. First get the webpage https://www.naukri.com/\n",
    "2. Enter “Data Analyst” in “Skill, Designations, Companies” field and enter “Bangalore” in “enter the\n",
    "location” field.\n",
    "3. Then click the search button.\n",
    "4. Then scrape the data for the first 10 jobs results you get.\n",
    "5. Finally create a dataframe of the scraped data."
   ]
  },
  {
   "cell_type": "code",
   "execution_count": 3,
   "id": "536de7d0",
   "metadata": {},
   "outputs": [],
   "source": [
    "driver = webdriver.Chrome(r\"C:\\Users\\prave\\Downloads\\Compressed\\chromedriver.exe\")\n",
    "url = 'https://www.naukri.com/'\n",
    "driver.get(url)"
   ]
  },
  {
   "cell_type": "code",
   "execution_count": 10,
   "id": "dc7474ed",
   "metadata": {},
   "outputs": [
    {
     "data": {
      "text/plain": [
       "<selenium.webdriver.remote.webelement.WebElement (session=\"4cd2fbe258f260bd2af44540d6f3c64f\", element=\"f089b40b-7a63-43ae-be12-aa02e8a1668e\")>"
      ]
     },
     "execution_count": 10,
     "metadata": {},
     "output_type": "execute_result"
    }
   ],
   "source": [
    "Search_job = driver.find_element(By.CLASS_NAME,\"suggestor-input \")\n",
    "Search_job"
   ]
  },
  {
   "cell_type": "code",
   "execution_count": 12,
   "id": "98b54708",
   "metadata": {},
   "outputs": [
    {
     "data": {
      "text/plain": [
       "<selenium.webdriver.remote.webelement.WebElement (session=\"4cd2fbe258f260bd2af44540d6f3c64f\", element=\"f089b40b-7a63-43ae-be12-aa02e8a1668e\")>"
      ]
     },
     "execution_count": 12,
     "metadata": {},
     "output_type": "execute_result"
    }
   ],
   "source": [
    "Search_job.send_keys('Data Analyst')\n",
    "Search_job"
   ]
  },
  {
   "cell_type": "code",
   "execution_count": 13,
   "id": "0a307a2b",
   "metadata": {},
   "outputs": [
    {
     "data": {
      "text/plain": [
       "<selenium.webdriver.remote.webelement.WebElement (session=\"4cd2fbe258f260bd2af44540d6f3c64f\", element=\"4adbe94d-057f-4f82-88de-86bf50e3a41a\")>"
      ]
     },
     "execution_count": 13,
     "metadata": {},
     "output_type": "execute_result"
    }
   ],
   "source": [
    "Search_loc = driver.find_element(By.XPATH,\"/html/body/div[1]/div[2]/div[3]/div/div/div[5]/div/div/div/input\")\n",
    "Search_loc.send_keys(\"Bangalore\")\n",
    "Search_loc"
   ]
  },
  {
   "cell_type": "code",
   "execution_count": 14,
   "id": "c137c0b8",
   "metadata": {},
   "outputs": [],
   "source": [
    "Search = driver.find_element(By.XPATH,\"/html/body/div[1]/div[2]/div[3]/div/div/div[6]\")\n",
    "Search.click()"
   ]
  },
  {
   "cell_type": "code",
   "execution_count": 17,
   "id": "e376338c",
   "metadata": {
    "collapsed": true
   },
   "outputs": [
    {
     "data": {
      "text/plain": [
       "['Senior Data Analyst II',\n",
       " 'Software Technical Expert - Data Analyst',\n",
       " 'Reference Data Analyst',\n",
       " 'Sales Data Analyst',\n",
       " 'Data Analyst',\n",
       " 'Big data analyst',\n",
       " 'Data Analyst',\n",
       " 'Senior Business Analyst, Data Analytics & Engineering-DATA Engineer',\n",
       " 'Data Analyst/Senior Data Analyst',\n",
       " 'Data Analyst - Marketplace']"
      ]
     },
     "execution_count": 17,
     "metadata": {},
     "output_type": "execute_result"
    }
   ],
   "source": [
    "title_job = driver.find_elements(By.XPATH,\"//a[@class='title fw500 ellipsis']\")\n",
    "\n",
    "Job_title = []\n",
    "\n",
    "for i in title_job:\n",
    "    Job_title.append(i.text)\n",
    "Job_title = Job_title[:10]\n",
    "Job_title"
   ]
  },
  {
   "cell_type": "code",
   "execution_count": 19,
   "id": "64f9524f",
   "metadata": {
    "collapsed": true
   },
   "outputs": [
    {
     "data": {
      "text/plain": [
       "['Flipkart',\n",
       " 'Schneider Electric',\n",
       " 'Deutsche Bank',\n",
       " 'NUANCE INDIA PVT LTD',\n",
       " 'Jio',\n",
       " 'Accolite Software India Pvt Ltd',\n",
       " 'BYJUS',\n",
       " 'Artech Infosystems Pvt. Ltd.',\n",
       " 'Meesho',\n",
       " 'Gojek']"
      ]
     },
     "execution_count": 19,
     "metadata": {},
     "output_type": "execute_result"
    }
   ],
   "source": [
    "companies_tag = driver.find_elements(By.XPATH,\"//a[@class='subTitle ellipsis fleft']\")\n",
    "\n",
    "Companies = []\n",
    "\n",
    "for i in companies_tag:\n",
    "    Companies.append(i.text)\n",
    "    \n",
    "Companies = Companies[:10]\n",
    "Companies"
   ]
  },
  {
   "cell_type": "code",
   "execution_count": 20,
   "id": "6cb05313",
   "metadata": {
    "collapsed": true
   },
   "outputs": [
    {
     "data": {
      "text/plain": [
       "['Bangalore/Bengaluru',\n",
       " 'Bangalore/Bengaluru',\n",
       " 'Bangalore/Bengaluru',\n",
       " 'Bangalore/Bengaluru',\n",
       " 'Bangalore/Bengaluru',\n",
       " 'Bangalore/Bengaluru',\n",
       " 'Bangalore/Bengaluru',\n",
       " 'Bangalore/Bengaluru\\n(WFH during Covid)',\n",
       " 'Bangalore/Bengaluru',\n",
       " 'Bangalore/Bengaluru']"
      ]
     },
     "execution_count": 20,
     "metadata": {},
     "output_type": "execute_result"
    }
   ],
   "source": [
    "location_list = driver.find_elements(By.XPATH,\"//li[@class='fleft grey-text br2 placeHolderLi location']\")\n",
    "\n",
    "Locations = []\n",
    "\n",
    "for i in location_list:\n",
    "    Locations.append(i.text)\n",
    "    \n",
    "Locations = Locations[:10]\n",
    "Locations"
   ]
  },
  {
   "cell_type": "code",
   "execution_count": 22,
   "id": "5e2faaac",
   "metadata": {
    "collapsed": true
   },
   "outputs": [
    {
     "data": {
      "text/plain": [
       "['3-6 Yrs',\n",
       " '3-6 Yrs',\n",
       " '2-5 Yrs',\n",
       " '1-3 Yrs',\n",
       " '8-11 Yrs',\n",
       " '2-6 Yrs',\n",
       " '2-5 Yrs',\n",
       " '4-8 Yrs',\n",
       " '3-6 Yrs',\n",
       " '3-7 Yrs']"
      ]
     },
     "execution_count": 22,
     "metadata": {},
     "output_type": "execute_result"
    }
   ],
   "source": [
    "experience = driver.find_elements(By.XPATH,\"//li[@class='fleft grey-text br2 placeHolderLi experience']\")\n",
    "\n",
    "Experience = []\n",
    "\n",
    "for i in experience:\n",
    "    Experience.append(i.text)\n",
    "\n",
    "Experience = Experience[:10]\n",
    "Experience"
   ]
  },
  {
   "cell_type": "code",
   "execution_count": 23,
   "id": "ae68dcfe",
   "metadata": {},
   "outputs": [
    {
     "data": {
      "text/html": [
       "<div>\n",
       "<style scoped>\n",
       "    .dataframe tbody tr th:only-of-type {\n",
       "        vertical-align: middle;\n",
       "    }\n",
       "\n",
       "    .dataframe tbody tr th {\n",
       "        vertical-align: top;\n",
       "    }\n",
       "\n",
       "    .dataframe thead th {\n",
       "        text-align: right;\n",
       "    }\n",
       "</style>\n",
       "<table border=\"1\" class=\"dataframe\">\n",
       "  <thead>\n",
       "    <tr style=\"text-align: right;\">\n",
       "      <th></th>\n",
       "      <th>Job Title</th>\n",
       "      <th>Companies Name</th>\n",
       "      <th>Experience</th>\n",
       "      <th>Location</th>\n",
       "    </tr>\n",
       "  </thead>\n",
       "  <tbody>\n",
       "    <tr>\n",
       "      <th>0</th>\n",
       "      <td>Senior Data Analyst II</td>\n",
       "      <td>Flipkart</td>\n",
       "      <td>3-6 Yrs</td>\n",
       "      <td>Bangalore/Bengaluru</td>\n",
       "    </tr>\n",
       "    <tr>\n",
       "      <th>1</th>\n",
       "      <td>Software Technical Expert - Data Analyst</td>\n",
       "      <td>Schneider Electric</td>\n",
       "      <td>3-6 Yrs</td>\n",
       "      <td>Bangalore/Bengaluru</td>\n",
       "    </tr>\n",
       "    <tr>\n",
       "      <th>2</th>\n",
       "      <td>Reference Data Analyst</td>\n",
       "      <td>Deutsche Bank</td>\n",
       "      <td>2-5 Yrs</td>\n",
       "      <td>Bangalore/Bengaluru</td>\n",
       "    </tr>\n",
       "    <tr>\n",
       "      <th>3</th>\n",
       "      <td>Sales Data Analyst</td>\n",
       "      <td>NUANCE INDIA PVT LTD</td>\n",
       "      <td>1-3 Yrs</td>\n",
       "      <td>Bangalore/Bengaluru</td>\n",
       "    </tr>\n",
       "    <tr>\n",
       "      <th>4</th>\n",
       "      <td>Data Analyst</td>\n",
       "      <td>Jio</td>\n",
       "      <td>8-11 Yrs</td>\n",
       "      <td>Bangalore/Bengaluru</td>\n",
       "    </tr>\n",
       "    <tr>\n",
       "      <th>5</th>\n",
       "      <td>Big data analyst</td>\n",
       "      <td>Accolite Software India Pvt Ltd</td>\n",
       "      <td>2-6 Yrs</td>\n",
       "      <td>Bangalore/Bengaluru</td>\n",
       "    </tr>\n",
       "    <tr>\n",
       "      <th>6</th>\n",
       "      <td>Data Analyst</td>\n",
       "      <td>BYJUS</td>\n",
       "      <td>2-5 Yrs</td>\n",
       "      <td>Bangalore/Bengaluru</td>\n",
       "    </tr>\n",
       "    <tr>\n",
       "      <th>7</th>\n",
       "      <td>Senior Business Analyst, Data Analytics &amp; Engi...</td>\n",
       "      <td>Artech Infosystems Pvt. Ltd.</td>\n",
       "      <td>4-8 Yrs</td>\n",
       "      <td>Bangalore/Bengaluru\\n(WFH during Covid)</td>\n",
       "    </tr>\n",
       "    <tr>\n",
       "      <th>8</th>\n",
       "      <td>Data Analyst/Senior Data Analyst</td>\n",
       "      <td>Meesho</td>\n",
       "      <td>3-6 Yrs</td>\n",
       "      <td>Bangalore/Bengaluru</td>\n",
       "    </tr>\n",
       "    <tr>\n",
       "      <th>9</th>\n",
       "      <td>Data Analyst - Marketplace</td>\n",
       "      <td>Gojek</td>\n",
       "      <td>3-7 Yrs</td>\n",
       "      <td>Bangalore/Bengaluru</td>\n",
       "    </tr>\n",
       "  </tbody>\n",
       "</table>\n",
       "</div>"
      ],
      "text/plain": [
       "                                           Job Title  \\\n",
       "0                             Senior Data Analyst II   \n",
       "1           Software Technical Expert - Data Analyst   \n",
       "2                             Reference Data Analyst   \n",
       "3                                 Sales Data Analyst   \n",
       "4                                       Data Analyst   \n",
       "5                                   Big data analyst   \n",
       "6                                       Data Analyst   \n",
       "7  Senior Business Analyst, Data Analytics & Engi...   \n",
       "8                   Data Analyst/Senior Data Analyst   \n",
       "9                         Data Analyst - Marketplace   \n",
       "\n",
       "                    Companies Name Experience  \\\n",
       "0                         Flipkart    3-6 Yrs   \n",
       "1               Schneider Electric    3-6 Yrs   \n",
       "2                    Deutsche Bank    2-5 Yrs   \n",
       "3             NUANCE INDIA PVT LTD    1-3 Yrs   \n",
       "4                              Jio   8-11 Yrs   \n",
       "5  Accolite Software India Pvt Ltd    2-6 Yrs   \n",
       "6                            BYJUS    2-5 Yrs   \n",
       "7     Artech Infosystems Pvt. Ltd.    4-8 Yrs   \n",
       "8                           Meesho    3-6 Yrs   \n",
       "9                            Gojek    3-7 Yrs   \n",
       "\n",
       "                                  Location  \n",
       "0                      Bangalore/Bengaluru  \n",
       "1                      Bangalore/Bengaluru  \n",
       "2                      Bangalore/Bengaluru  \n",
       "3                      Bangalore/Bengaluru  \n",
       "4                      Bangalore/Bengaluru  \n",
       "5                      Bangalore/Bengaluru  \n",
       "6                      Bangalore/Bengaluru  \n",
       "7  Bangalore/Bengaluru\\n(WFH during Covid)  \n",
       "8                      Bangalore/Bengaluru  \n",
       "9                      Bangalore/Bengaluru  "
      ]
     },
     "execution_count": 23,
     "metadata": {},
     "output_type": "execute_result"
    }
   ],
   "source": [
    "Data_1 = pd.DataFrame()\n",
    "Data_1['Job Title'] = Job_title\n",
    "Data_1['Companies Name'] = Companies\n",
    "Data_1['Experience'] = Experience\n",
    "Data_1['Location'] = Locations\n",
    "\n",
    "Data_1"
   ]
  },
  {
   "cell_type": "markdown",
   "id": "01738363",
   "metadata": {},
   "source": [
    "Q2: Write a python program to scrape data for “Data Scientist” Job position in “Bangalore” location. You \n",
    "have to scrape the job-title, job-location, company_name. You have to scrape first 10 jobs data.\n",
    "This task will be done in following steps:\n",
    "1. First get the webpage https://www.naukri.com/\n",
    "2. Enter “Data Scientist” in “Skill, Designations, Companies” field and enter “Bangalore” in “enter the\n",
    "location” field.\n",
    "3. Then click the search button.\n",
    "4. Then scrape the data for the first 10 jobs results you get.\n",
    "5. Finally create a dataframe of the scraped data"
   ]
  },
  {
   "cell_type": "code",
   "execution_count": 24,
   "id": "8928be51",
   "metadata": {},
   "outputs": [],
   "source": [
    "driver = webdriver.Chrome(r\"C:\\Users\\prave\\Downloads\\Compressed\\chromedriver.exe\")"
   ]
  },
  {
   "cell_type": "code",
   "execution_count": 25,
   "id": "2c636bd2",
   "metadata": {},
   "outputs": [],
   "source": [
    "url = 'https://www.naukri.com/'\n",
    "driver.get(url)"
   ]
  },
  {
   "cell_type": "code",
   "execution_count": 26,
   "id": "fdf54824",
   "metadata": {},
   "outputs": [
    {
     "data": {
      "text/plain": [
       "<selenium.webdriver.remote.webelement.WebElement (session=\"7604bfa58b605305945aa6392e25d74c\", element=\"8b59e969-a090-45c2-a572-37cae7ac487e\")>"
      ]
     },
     "execution_count": 26,
     "metadata": {},
     "output_type": "execute_result"
    }
   ],
   "source": [
    "search_job = driver.find_element(By.CLASS_NAME,\"suggestor-input\")\n",
    "search_job.send_keys(\"Data Scientist\")\n",
    "search_job"
   ]
  },
  {
   "cell_type": "code",
   "execution_count": 27,
   "id": "abe62701",
   "metadata": {},
   "outputs": [
    {
     "data": {
      "text/plain": [
       "<selenium.webdriver.remote.webelement.WebElement (session=\"7604bfa58b605305945aa6392e25d74c\", element=\"fe786abf-432f-42e1-bf3b-0713dc7a53c8\")>"
      ]
     },
     "execution_count": 27,
     "metadata": {},
     "output_type": "execute_result"
    }
   ],
   "source": [
    "search_locn = driver.find_element(By.XPATH,\"/html/body/div[1]/div[2]/div[3]/div/div/div[5]/div/div/div/input\")\n",
    "search_locn.send_keys('Delhi')\n",
    "search_locn"
   ]
  },
  {
   "cell_type": "code",
   "execution_count": 28,
   "id": "740add89",
   "metadata": {},
   "outputs": [],
   "source": [
    "Search = driver.find_element(By.XPATH,\"/html/body/div[1]/div[2]/div[3]/div/div/div[6]\")\n",
    "Search.click()"
   ]
  },
  {
   "cell_type": "code",
   "execution_count": 30,
   "id": "4ecdb10e",
   "metadata": {
    "collapsed": true
   },
   "outputs": [
    {
     "data": {
      "text/plain": [
       "['Genpact',\n",
       " 'Xsys Software Technologies',\n",
       " 'Eversana',\n",
       " 'DataTrained',\n",
       " 'AMSI TECHNOLOGIES PVT LIMITED',\n",
       " 'IB Business Services',\n",
       " 'ANBLICKS CLOUD DATA ENGG PRIVATE LIMITED',\n",
       " 'Recodeminds Pvt Ltd',\n",
       " 'SIBIA Analytics and Consulting Services Pvt Ltd',\n",
       " 'cliqhr.com']"
      ]
     },
     "execution_count": 30,
     "metadata": {},
     "output_type": "execute_result"
    }
   ],
   "source": [
    "Title_tag = driver.find_elements(By.XPATH,'//a[@class=\"subTitle ellipsis fleft\"]')\n",
    "\n",
    "Job_titles = []\n",
    "\n",
    "for i in Title_tag:\n",
    "    Job_titles.append(i.text)\n",
    "\n",
    "Job_titles = Job_titles[:10]\n",
    "Job_titles"
   ]
  },
  {
   "cell_type": "code",
   "execution_count": 31,
   "id": "73d153a6",
   "metadata": {
    "collapsed": true
   },
   "outputs": [
    {
     "data": {
      "text/plain": [
       "['Genpact',\n",
       " 'Xsys Software Technologies',\n",
       " 'Eversana',\n",
       " 'DataTrained',\n",
       " 'AMSI TECHNOLOGIES PVT LIMITED',\n",
       " 'IB Business Services',\n",
       " 'ANBLICKS CLOUD DATA ENGG PRIVATE LIMITED',\n",
       " 'Recodeminds Pvt Ltd',\n",
       " 'SIBIA Analytics and Consulting Services Pvt Ltd',\n",
       " 'cliqhr.com']"
      ]
     },
     "execution_count": 31,
     "metadata": {},
     "output_type": "execute_result"
    }
   ],
   "source": [
    "Company_tage = driver.find_elements(By.XPATH,'//a[@class=\"subTitle ellipsis fleft\"]')\n",
    "\n",
    "Company_name = []\n",
    "\n",
    "for i in Company_tage:\n",
    "    Company_name.append(i.text)\n",
    "\n",
    "Company_name = Company_name[:10]\n",
    "Company_name"
   ]
  },
  {
   "cell_type": "code",
   "execution_count": 32,
   "id": "f46975ba",
   "metadata": {
    "collapsed": true
   },
   "outputs": [
    {
     "data": {
      "text/plain": [
       "['7-12 Yrs',\n",
       " '0-5 Yrs',\n",
       " '3-7 Yrs',\n",
       " '0-2 Yrs',\n",
       " '4-9 Yrs',\n",
       " '2-5 Yrs',\n",
       " '3-6 Yrs',\n",
       " '1-3 Yrs',\n",
       " '0-4 Yrs',\n",
       " '5-8 Yrs']"
      ]
     },
     "execution_count": 32,
     "metadata": {},
     "output_type": "execute_result"
    }
   ],
   "source": [
    "Exp_tag = driver.find_elements(By.XPATH,\"//li[@class='fleft grey-text br2 placeHolderLi experience']\")\n",
    "\n",
    "Experience = []\n",
    "\n",
    "for i in Exp_tag:\n",
    "    Experience.append(i.text)\n",
    "\n",
    "Experience = Experience[:10]\n",
    "Experience"
   ]
  },
  {
   "cell_type": "code",
   "execution_count": 34,
   "id": "dfb0fa83",
   "metadata": {},
   "outputs": [
    {
     "data": {
      "text/plain": [
       "['Bangalore/Bengaluru',\n",
       " 'Bangalore/Bengaluru(Mathikere +11)',\n",
       " 'Pune(Koregaon Park), Bangalore/Bengaluru(Bellandur)',\n",
       " 'Gurgaon/Gurugram, Bangalore/Bengaluru, Delhi / NCR',\n",
       " 'Chennai, Bangalore/Bengaluru\\n(WFH during Covid)',\n",
       " 'Tirunelveli, Chennai, Bangalore/Bengaluru(Vidyaranyapura), Vellore',\n",
       " 'Hyderabad/Secunderabad, Ahmedabad',\n",
       " 'Hyderabad/Secunderabad',\n",
       " 'Kolkata',\n",
       " 'Bangalore/Bengaluru']"
      ]
     },
     "execution_count": 34,
     "metadata": {},
     "output_type": "execute_result"
    }
   ],
   "source": [
    "Locn_tags = driver.find_elements(By.XPATH,\"//li[@class='fleft grey-text br2 placeHolderLi location']\")\n",
    "\n",
    "Location = []\n",
    "\n",
    "for i in Locn_tags:\n",
    "    Location.append(i.text)\n",
    "\n",
    "Location = Location[:10]\n",
    "Location"
   ]
  },
  {
   "cell_type": "code",
   "execution_count": 35,
   "id": "fc39d025",
   "metadata": {},
   "outputs": [
    {
     "data": {
      "text/html": [
       "<div>\n",
       "<style scoped>\n",
       "    .dataframe tbody tr th:only-of-type {\n",
       "        vertical-align: middle;\n",
       "    }\n",
       "\n",
       "    .dataframe tbody tr th {\n",
       "        vertical-align: top;\n",
       "    }\n",
       "\n",
       "    .dataframe thead th {\n",
       "        text-align: right;\n",
       "    }\n",
       "</style>\n",
       "<table border=\"1\" class=\"dataframe\">\n",
       "  <thead>\n",
       "    <tr style=\"text-align: right;\">\n",
       "      <th></th>\n",
       "      <th>Job Title</th>\n",
       "      <th>Company</th>\n",
       "      <th>Experience</th>\n",
       "      <th>Location</th>\n",
       "    </tr>\n",
       "  </thead>\n",
       "  <tbody>\n",
       "    <tr>\n",
       "      <th>0</th>\n",
       "      <td>Genpact</td>\n",
       "      <td>Genpact</td>\n",
       "      <td>7-12 Yrs</td>\n",
       "      <td>Bangalore/Bengaluru</td>\n",
       "    </tr>\n",
       "    <tr>\n",
       "      <th>1</th>\n",
       "      <td>Xsys Software Technologies</td>\n",
       "      <td>Xsys Software Technologies</td>\n",
       "      <td>0-5 Yrs</td>\n",
       "      <td>Bangalore/Bengaluru(Mathikere +11)</td>\n",
       "    </tr>\n",
       "    <tr>\n",
       "      <th>2</th>\n",
       "      <td>Eversana</td>\n",
       "      <td>Eversana</td>\n",
       "      <td>3-7 Yrs</td>\n",
       "      <td>Pune(Koregaon Park), Bangalore/Bengaluru(Bella...</td>\n",
       "    </tr>\n",
       "    <tr>\n",
       "      <th>3</th>\n",
       "      <td>DataTrained</td>\n",
       "      <td>DataTrained</td>\n",
       "      <td>0-2 Yrs</td>\n",
       "      <td>Gurgaon/Gurugram, Bangalore/Bengaluru, Delhi /...</td>\n",
       "    </tr>\n",
       "    <tr>\n",
       "      <th>4</th>\n",
       "      <td>AMSI TECHNOLOGIES PVT LIMITED</td>\n",
       "      <td>AMSI TECHNOLOGIES PVT LIMITED</td>\n",
       "      <td>4-9 Yrs</td>\n",
       "      <td>Chennai, Bangalore/Bengaluru\\n(WFH during Covid)</td>\n",
       "    </tr>\n",
       "    <tr>\n",
       "      <th>5</th>\n",
       "      <td>IB Business Services</td>\n",
       "      <td>IB Business Services</td>\n",
       "      <td>2-5 Yrs</td>\n",
       "      <td>Tirunelveli, Chennai, Bangalore/Bengaluru(Vidy...</td>\n",
       "    </tr>\n",
       "    <tr>\n",
       "      <th>6</th>\n",
       "      <td>ANBLICKS CLOUD DATA ENGG PRIVATE LIMITED</td>\n",
       "      <td>ANBLICKS CLOUD DATA ENGG PRIVATE LIMITED</td>\n",
       "      <td>3-6 Yrs</td>\n",
       "      <td>Hyderabad/Secunderabad, Ahmedabad</td>\n",
       "    </tr>\n",
       "    <tr>\n",
       "      <th>7</th>\n",
       "      <td>Recodeminds Pvt Ltd</td>\n",
       "      <td>Recodeminds Pvt Ltd</td>\n",
       "      <td>1-3 Yrs</td>\n",
       "      <td>Hyderabad/Secunderabad</td>\n",
       "    </tr>\n",
       "    <tr>\n",
       "      <th>8</th>\n",
       "      <td>SIBIA Analytics and Consulting Services Pvt Ltd</td>\n",
       "      <td>SIBIA Analytics and Consulting Services Pvt Ltd</td>\n",
       "      <td>0-4 Yrs</td>\n",
       "      <td>Kolkata</td>\n",
       "    </tr>\n",
       "    <tr>\n",
       "      <th>9</th>\n",
       "      <td>cliqhr.com</td>\n",
       "      <td>cliqhr.com</td>\n",
       "      <td>5-8 Yrs</td>\n",
       "      <td>Bangalore/Bengaluru</td>\n",
       "    </tr>\n",
       "  </tbody>\n",
       "</table>\n",
       "</div>"
      ],
      "text/plain": [
       "                                         Job Title  \\\n",
       "0                                          Genpact   \n",
       "1                       Xsys Software Technologies   \n",
       "2                                         Eversana   \n",
       "3                                      DataTrained   \n",
       "4                    AMSI TECHNOLOGIES PVT LIMITED   \n",
       "5                             IB Business Services   \n",
       "6         ANBLICKS CLOUD DATA ENGG PRIVATE LIMITED   \n",
       "7                              Recodeminds Pvt Ltd   \n",
       "8  SIBIA Analytics and Consulting Services Pvt Ltd   \n",
       "9                                       cliqhr.com   \n",
       "\n",
       "                                           Company Experience  \\\n",
       "0                                          Genpact   7-12 Yrs   \n",
       "1                       Xsys Software Technologies    0-5 Yrs   \n",
       "2                                         Eversana    3-7 Yrs   \n",
       "3                                      DataTrained    0-2 Yrs   \n",
       "4                    AMSI TECHNOLOGIES PVT LIMITED    4-9 Yrs   \n",
       "5                             IB Business Services    2-5 Yrs   \n",
       "6         ANBLICKS CLOUD DATA ENGG PRIVATE LIMITED    3-6 Yrs   \n",
       "7                              Recodeminds Pvt Ltd    1-3 Yrs   \n",
       "8  SIBIA Analytics and Consulting Services Pvt Ltd    0-4 Yrs   \n",
       "9                                       cliqhr.com    5-8 Yrs   \n",
       "\n",
       "                                            Location  \n",
       "0                                Bangalore/Bengaluru  \n",
       "1                 Bangalore/Bengaluru(Mathikere +11)  \n",
       "2  Pune(Koregaon Park), Bangalore/Bengaluru(Bella...  \n",
       "3  Gurgaon/Gurugram, Bangalore/Bengaluru, Delhi /...  \n",
       "4   Chennai, Bangalore/Bengaluru\\n(WFH during Covid)  \n",
       "5  Tirunelveli, Chennai, Bangalore/Bengaluru(Vidy...  \n",
       "6                  Hyderabad/Secunderabad, Ahmedabad  \n",
       "7                             Hyderabad/Secunderabad  \n",
       "8                                            Kolkata  \n",
       "9                                Bangalore/Bengaluru  "
      ]
     },
     "execution_count": 35,
     "metadata": {},
     "output_type": "execute_result"
    }
   ],
   "source": [
    "Data_2 = pd.DataFrame()\n",
    "Data_2['Job Title'] = Job_titles\n",
    "Data_2['Company'] = Company_name\n",
    "Data_2['Experience'] = Experience\n",
    "Data_2['Location']= Location\n",
    "Data_2"
   ]
  },
  {
   "cell_type": "markdown",
   "id": "62701302",
   "metadata": {},
   "source": [
    "Q3: In this question you have to scrape data using the filters available on the webpage as shown below:\n",
    "You have to use the location and salary filter.\n",
    "You have to scrape data for “Data Scientist” designation for first 10 job results.\n",
    "You have to scrape the job-title, job-location, company name, experience required. \n",
    "The location filter to be used is “Delhi/NCR”. The salary filter to be used is “3-6” lakhs\n",
    "The task will be done as shown in the below steps:\n",
    "1. first get the webpage https://www.naukri.com/\n",
    "2. Enter “Data Scientist” in “Skill, Designations, and Companies” field.\n",
    "3. Then click the search button.\n",
    "4. Then apply the location filter and salary filter by checking the respective boxes\n",
    "5. Then scrape the data for the first 10 jobs results you get.\n",
    "6. Finally create a dataframe of the scraped data."
   ]
  },
  {
   "cell_type": "code",
   "execution_count": 70,
   "id": "64acaf4b",
   "metadata": {},
   "outputs": [],
   "source": [
    "driver = webdriver.Chrome(r\"C:\\Users\\prave\\Downloads\\Compressed\\chromedriver.exe\")"
   ]
  },
  {
   "cell_type": "code",
   "execution_count": 71,
   "id": "d8b8399c",
   "metadata": {},
   "outputs": [],
   "source": [
    "driver.get(\"https://www.naukri.com/\")"
   ]
  },
  {
   "cell_type": "code",
   "execution_count": 72,
   "id": "929ccc5f",
   "metadata": {},
   "outputs": [],
   "source": [
    "search1= driver.find_element(By.CLASS_NAME,'suggestor-input ')\n",
    "search1.send_keys(\"Data Scientist\")\n"
   ]
  },
  {
   "cell_type": "code",
   "execution_count": null,
   "id": "30d906f7",
   "metadata": {},
   "outputs": [],
   "source": [
    "search_loc1 = driver.find_element(By.XPATH,\"/html/body/div[1]/div[2]/div[3]/div/div/div[5]/div/div/div/input\")\n",
    "search_loc1.send_keys(\"Delhi/NCR\")"
   ]
  },
  {
   "cell_type": "code",
   "execution_count": 75,
   "id": "2ae787f6",
   "metadata": {},
   "outputs": [],
   "source": [
    "Search = driver.find_element(By.XPATH,\"/html/body/div[1]/div[2]/div[3]/div/div/div[6]\")\n",
    "Search.click()"
   ]
  },
  {
   "cell_type": "code",
   "execution_count": 76,
   "id": "883440cd",
   "metadata": {},
   "outputs": [],
   "source": [
    "Salary = driver.find_element(By.XPATH,\"/html/body/div[1]/div[3]/div[2]/section[1]/div[2]/div[5]/div[2]/div[1]/label/i\")\n",
    "Salary.click()"
   ]
  },
  {
   "cell_type": "code",
   "execution_count": 86,
   "id": "362b6c23",
   "metadata": {},
   "outputs": [],
   "source": [
    "Location = driver.find_element(By.XPATH,\"/html/body/div[1]/div[3]/div[2]/section[1]/div[2]/div[1]/div[2]/div[3]/label/i\")\n",
    "Location.click()"
   ]
  },
  {
   "cell_type": "code",
   "execution_count": 87,
   "id": "d44150f4",
   "metadata": {},
   "outputs": [
    {
     "data": {
      "text/plain": [
       "['Genpact',\n",
       " 'Xsys Software Technologies',\n",
       " 'Eversana',\n",
       " 'DataTrained',\n",
       " 'AMSI TECHNOLOGIES PVT LIMITED',\n",
       " 'IB Business Services',\n",
       " 'cliqhr.com',\n",
       " 'Beeja Academy (Satvat Group of Companies)',\n",
       " 'Aaum Research and Analytics Private Limited',\n",
       " 'TotalAI Systems India LLP']"
      ]
     },
     "execution_count": 87,
     "metadata": {},
     "output_type": "execute_result"
    }
   ],
   "source": [
    "Title_tag = driver.find_elements(By.XPATH,'//a[@class=\"subTitle ellipsis fleft\"]')\n",
    "\n",
    "Job_titles = []\n",
    "\n",
    "for i in Title_tag:\n",
    "    Job_titles.append(i.text)\n",
    "\n",
    "Job_titles = Job_titles[:10]\n",
    "Job_titles"
   ]
  },
  {
   "cell_type": "code",
   "execution_count": 88,
   "id": "b4791fc9",
   "metadata": {},
   "outputs": [
    {
     "data": {
      "text/plain": [
       "['Genpact',\n",
       " 'Xsys Software Technologies',\n",
       " 'Eversana',\n",
       " 'DataTrained',\n",
       " 'AMSI TECHNOLOGIES PVT LIMITED',\n",
       " 'IB Business Services',\n",
       " 'cliqhr.com',\n",
       " 'Beeja Academy (Satvat Group of Companies)',\n",
       " 'Aaum Research and Analytics Private Limited',\n",
       " 'TotalAI Systems India LLP']"
      ]
     },
     "execution_count": 88,
     "metadata": {},
     "output_type": "execute_result"
    }
   ],
   "source": [
    "Company_tage = driver.find_elements(By.XPATH,'//a[@class=\"subTitle ellipsis fleft\"]')\n",
    "\n",
    "Company_name = []\n",
    "\n",
    "for i in Company_tage:\n",
    "    Company_name.append(i.text)\n",
    "\n",
    "Company_name = Company_name[:10]\n",
    "Company_name"
   ]
  },
  {
   "cell_type": "code",
   "execution_count": 89,
   "id": "218225ed",
   "metadata": {},
   "outputs": [
    {
     "data": {
      "text/plain": [
       "['7-12 Yrs',\n",
       " '0-5 Yrs',\n",
       " '3-7 Yrs',\n",
       " '0-2 Yrs',\n",
       " '4-9 Yrs',\n",
       " '2-5 Yrs',\n",
       " '5-8 Yrs',\n",
       " '2-3 Yrs',\n",
       " '1-3 Yrs',\n",
       " '4-7 Yrs']"
      ]
     },
     "execution_count": 89,
     "metadata": {},
     "output_type": "execute_result"
    }
   ],
   "source": [
    "Exp_tag = driver.find_elements(By.XPATH,\"//li[@class='fleft grey-text br2 placeHolderLi experience']\")\n",
    "\n",
    "Experience = []\n",
    "\n",
    "for i in Exp_tag:\n",
    "    Experience.append(i.text)\n",
    "\n",
    "Experience = Experience[:10]\n",
    "Experience"
   ]
  },
  {
   "cell_type": "code",
   "execution_count": 90,
   "id": "f3b65323",
   "metadata": {},
   "outputs": [
    {
     "data": {
      "text/plain": [
       "['Bangalore/Bengaluru',\n",
       " 'Bangalore/Bengaluru(Mathikere +11)',\n",
       " 'Bangalore/Bengaluru(Bellandur), Pune(Koregaon Park)',\n",
       " 'Bangalore/Bengaluru, Gurgaon/Gurugram, Delhi / NCR',\n",
       " 'Bangalore/Bengaluru, Chennai\\n(WFH during Covid)',\n",
       " 'Bangalore/Bengaluru(Vidyaranyapura), Chennai, Tirunelveli, Vellore',\n",
       " 'Bangalore/Bengaluru',\n",
       " 'Chennai(Adyar)',\n",
       " 'Chennai\\n(WFH during Covid)',\n",
       " 'Remote']"
      ]
     },
     "execution_count": 90,
     "metadata": {},
     "output_type": "execute_result"
    }
   ],
   "source": [
    "Locn_tags = driver.find_elements(By.XPATH,\"//li[@class='fleft grey-text br2 placeHolderLi location']\")\n",
    "\n",
    "Location = []\n",
    "\n",
    "for i in Locn_tags:\n",
    "    Location.append(i.text)\n",
    "\n",
    "Location = Location[:10]\n",
    "Location"
   ]
  },
  {
   "cell_type": "code",
   "execution_count": 92,
   "id": "5e4a82c8",
   "metadata": {},
   "outputs": [
    {
     "data": {
      "text/html": [
       "<div>\n",
       "<style scoped>\n",
       "    .dataframe tbody tr th:only-of-type {\n",
       "        vertical-align: middle;\n",
       "    }\n",
       "\n",
       "    .dataframe tbody tr th {\n",
       "        vertical-align: top;\n",
       "    }\n",
       "\n",
       "    .dataframe thead th {\n",
       "        text-align: right;\n",
       "    }\n",
       "</style>\n",
       "<table border=\"1\" class=\"dataframe\">\n",
       "  <thead>\n",
       "    <tr style=\"text-align: right;\">\n",
       "      <th></th>\n",
       "      <th>Job Title</th>\n",
       "      <th>Company</th>\n",
       "      <th>Experience</th>\n",
       "      <th>Location</th>\n",
       "    </tr>\n",
       "  </thead>\n",
       "  <tbody>\n",
       "    <tr>\n",
       "      <th>0</th>\n",
       "      <td>Genpact</td>\n",
       "      <td>Genpact</td>\n",
       "      <td>7-12 Yrs</td>\n",
       "      <td>Bangalore/Bengaluru</td>\n",
       "    </tr>\n",
       "    <tr>\n",
       "      <th>1</th>\n",
       "      <td>Xsys Software Technologies</td>\n",
       "      <td>Xsys Software Technologies</td>\n",
       "      <td>0-5 Yrs</td>\n",
       "      <td>Bangalore/Bengaluru(Mathikere +11)</td>\n",
       "    </tr>\n",
       "    <tr>\n",
       "      <th>2</th>\n",
       "      <td>Eversana</td>\n",
       "      <td>Eversana</td>\n",
       "      <td>3-7 Yrs</td>\n",
       "      <td>Bangalore/Bengaluru(Bellandur), Pune(Koregaon ...</td>\n",
       "    </tr>\n",
       "    <tr>\n",
       "      <th>3</th>\n",
       "      <td>DataTrained</td>\n",
       "      <td>DataTrained</td>\n",
       "      <td>0-2 Yrs</td>\n",
       "      <td>Bangalore/Bengaluru, Gurgaon/Gurugram, Delhi /...</td>\n",
       "    </tr>\n",
       "    <tr>\n",
       "      <th>4</th>\n",
       "      <td>AMSI TECHNOLOGIES PVT LIMITED</td>\n",
       "      <td>AMSI TECHNOLOGIES PVT LIMITED</td>\n",
       "      <td>4-9 Yrs</td>\n",
       "      <td>Bangalore/Bengaluru, Chennai\\n(WFH during Covid)</td>\n",
       "    </tr>\n",
       "    <tr>\n",
       "      <th>5</th>\n",
       "      <td>IB Business Services</td>\n",
       "      <td>IB Business Services</td>\n",
       "      <td>2-5 Yrs</td>\n",
       "      <td>Bangalore/Bengaluru(Vidyaranyapura), Chennai, ...</td>\n",
       "    </tr>\n",
       "    <tr>\n",
       "      <th>6</th>\n",
       "      <td>cliqhr.com</td>\n",
       "      <td>cliqhr.com</td>\n",
       "      <td>5-8 Yrs</td>\n",
       "      <td>Bangalore/Bengaluru</td>\n",
       "    </tr>\n",
       "    <tr>\n",
       "      <th>7</th>\n",
       "      <td>Beeja Academy (Satvat Group of Companies)</td>\n",
       "      <td>Beeja Academy (Satvat Group of Companies)</td>\n",
       "      <td>2-3 Yrs</td>\n",
       "      <td>Chennai(Adyar)</td>\n",
       "    </tr>\n",
       "    <tr>\n",
       "      <th>8</th>\n",
       "      <td>Aaum Research and Analytics Private Limited</td>\n",
       "      <td>Aaum Research and Analytics Private Limited</td>\n",
       "      <td>1-3 Yrs</td>\n",
       "      <td>Chennai\\n(WFH during Covid)</td>\n",
       "    </tr>\n",
       "    <tr>\n",
       "      <th>9</th>\n",
       "      <td>TotalAI Systems India LLP</td>\n",
       "      <td>TotalAI Systems India LLP</td>\n",
       "      <td>4-7 Yrs</td>\n",
       "      <td>Remote</td>\n",
       "    </tr>\n",
       "  </tbody>\n",
       "</table>\n",
       "</div>"
      ],
      "text/plain": [
       "                                     Job Title  \\\n",
       "0                                      Genpact   \n",
       "1                   Xsys Software Technologies   \n",
       "2                                     Eversana   \n",
       "3                                  DataTrained   \n",
       "4                AMSI TECHNOLOGIES PVT LIMITED   \n",
       "5                         IB Business Services   \n",
       "6                                   cliqhr.com   \n",
       "7    Beeja Academy (Satvat Group of Companies)   \n",
       "8  Aaum Research and Analytics Private Limited   \n",
       "9                    TotalAI Systems India LLP   \n",
       "\n",
       "                                       Company Experience  \\\n",
       "0                                      Genpact   7-12 Yrs   \n",
       "1                   Xsys Software Technologies    0-5 Yrs   \n",
       "2                                     Eversana    3-7 Yrs   \n",
       "3                                  DataTrained    0-2 Yrs   \n",
       "4                AMSI TECHNOLOGIES PVT LIMITED    4-9 Yrs   \n",
       "5                         IB Business Services    2-5 Yrs   \n",
       "6                                   cliqhr.com    5-8 Yrs   \n",
       "7    Beeja Academy (Satvat Group of Companies)    2-3 Yrs   \n",
       "8  Aaum Research and Analytics Private Limited    1-3 Yrs   \n",
       "9                    TotalAI Systems India LLP    4-7 Yrs   \n",
       "\n",
       "                                            Location  \n",
       "0                                Bangalore/Bengaluru  \n",
       "1                 Bangalore/Bengaluru(Mathikere +11)  \n",
       "2  Bangalore/Bengaluru(Bellandur), Pune(Koregaon ...  \n",
       "3  Bangalore/Bengaluru, Gurgaon/Gurugram, Delhi /...  \n",
       "4   Bangalore/Bengaluru, Chennai\\n(WFH during Covid)  \n",
       "5  Bangalore/Bengaluru(Vidyaranyapura), Chennai, ...  \n",
       "6                                Bangalore/Bengaluru  \n",
       "7                                     Chennai(Adyar)  \n",
       "8                        Chennai\\n(WFH during Covid)  \n",
       "9                                             Remote  "
      ]
     },
     "execution_count": 92,
     "metadata": {},
     "output_type": "execute_result"
    }
   ],
   "source": [
    "Data_3 = pd.DataFrame()\n",
    "Data_3['Job Title'] = Job_titles\n",
    "Data_3['Company'] = Company_name\n",
    "Data_3['Experience'] = Experience\n",
    "Data_3['Location']= Location\n",
    "Data_3"
   ]
  },
  {
   "cell_type": "markdown",
   "id": "f8abcac5",
   "metadata": {},
   "source": [
    "Q4: Scrape data of first 100 sunglasses listings on flipkart.com. You have to scrape four attributes:\n",
    "1. Brand\n",
    "2. Product Description\n",
    "3. Price\n",
    "\n",
    "To scrape the data you have to go through following steps:\n",
    "1. Go to Flipkart webpage by url : https://www.flipkart.com/\n",
    "2. Enter “sunglasses” in the search field where “search for products, brands and more” is written and click the search icon\n",
    "3. After that you will reach to the page having a lot of sunglasses. From this page you can scrap the required data as usual.\n",
    "4. After scraping data from the first page, go to the “Next” Button at the bottom other page , then click on it.\n",
    "5. Now scrape data from this page as usual\n",
    "6. Repeat this until you get data for 100 sunglasses.\n"
   ]
  },
  {
   "cell_type": "code",
   "execution_count": 66,
   "id": "291ce6db",
   "metadata": {},
   "outputs": [],
   "source": [
    "driver = webdriver.Chrome(r\"C:\\Users\\prave\\Downloads\\Compressed\\chromedriver.exe\")"
   ]
  },
  {
   "cell_type": "code",
   "execution_count": 67,
   "id": "431e0b88",
   "metadata": {},
   "outputs": [],
   "source": [
    "driver.get(\"https://www.flipkart.com/\")"
   ]
  },
  {
   "cell_type": "code",
   "execution_count": 68,
   "id": "015f4dfe",
   "metadata": {},
   "outputs": [],
   "source": [
    "search = driver.find_element(By.CLASS_NAME,'_3704LK')\n",
    "search.send_keys(\"Sunglasses\")"
   ]
  },
  {
   "cell_type": "code",
   "execution_count": 7,
   "id": "175c881e",
   "metadata": {},
   "outputs": [],
   "source": [
    "search_bott = driver.find_element(By.XPATH,'/html/body/div[1]/div/div[2]/div[1]/div[2]/div[2]/form/div/button')\n",
    "search_bott.click()"
   ]
  },
  {
   "cell_type": "code",
   "execution_count": 11,
   "id": "c1f7b44d",
   "metadata": {},
   "outputs": [
    {
     "data": {
      "text/plain": [
       "100"
      ]
     },
     "execution_count": 11,
     "metadata": {},
     "output_type": "execute_result"
    }
   ],
   "source": [
    "brand = driver.find_elements(By.XPATH,'//div[@class = \"_2WkVRV\"]')\n",
    "\n",
    "Brand =[]\n",
    "\n",
    "while len(Brand)<=100:\n",
    "    Next_page = driver.find_elements(By.XPATH,\"//a[@class = '_1LKTO3']\")\n",
    "    for i in brand:\n",
    "        Brand.append(i.text)\n",
    "\n",
    "Brand = Brand[0:100]\n",
    "len(Brand)"
   ]
  },
  {
   "cell_type": "code",
   "execution_count": 14,
   "id": "a04fb436",
   "metadata": {},
   "outputs": [
    {
     "data": {
      "text/plain": [
       "100"
      ]
     },
     "execution_count": 14,
     "metadata": {},
     "output_type": "execute_result"
    }
   ],
   "source": [
    "product = driver.find_elements(By.XPATH,'//a[@class = \"IRpwTa\"]')\n",
    "\n",
    "Product =[]\n",
    "\n",
    "while len(Product)<=100:\n",
    "    Next_page = driver.find_elements(By.XPATH,\"//a[@class = '_1LKTO3']\")\n",
    "    for i in product:\n",
    "        Product.append(i.text)\n",
    "\n",
    "Product = Product[0:100]\n",
    "len(Product)"
   ]
  },
  {
   "cell_type": "code",
   "execution_count": 15,
   "id": "79bc0d2a",
   "metadata": {},
   "outputs": [
    {
     "data": {
      "text/plain": [
       "100"
      ]
     },
     "execution_count": 15,
     "metadata": {},
     "output_type": "execute_result"
    }
   ],
   "source": [
    "price = driver.find_elements(By.XPATH,'//div[@class = \"_30jeq3\"]')\n",
    "\n",
    "Price =[]\n",
    "\n",
    "while len(Price)<=100:\n",
    "    Next_page = driver.find_elements(By.XPATH,\"//a[@class = '_1LKTO3']\")\n",
    "    for i in price:\n",
    "        Price.append(i.text)\n",
    "\n",
    "Price = Price[0:100]\n",
    "len(Price)"
   ]
  },
  {
   "cell_type": "code",
   "execution_count": 17,
   "id": "1c92f018",
   "metadata": {},
   "outputs": [
    {
     "data": {
      "text/html": [
       "<div>\n",
       "<style scoped>\n",
       "    .dataframe tbody tr th:only-of-type {\n",
       "        vertical-align: middle;\n",
       "    }\n",
       "\n",
       "    .dataframe tbody tr th {\n",
       "        vertical-align: top;\n",
       "    }\n",
       "\n",
       "    .dataframe thead th {\n",
       "        text-align: right;\n",
       "    }\n",
       "</style>\n",
       "<table border=\"1\" class=\"dataframe\">\n",
       "  <thead>\n",
       "    <tr style=\"text-align: right;\">\n",
       "      <th></th>\n",
       "      <th>Brands</th>\n",
       "      <th>Product Description</th>\n",
       "      <th>Price</th>\n",
       "    </tr>\n",
       "  </thead>\n",
       "  <tbody>\n",
       "    <tr>\n",
       "      <th>0</th>\n",
       "      <td>Singco India</td>\n",
       "      <td>Gradient, Toughened Glass Lens, UV Protection ...</td>\n",
       "      <td>₹567</td>\n",
       "    </tr>\n",
       "    <tr>\n",
       "      <th>1</th>\n",
       "      <td>Silver Kartz</td>\n",
       "      <td>UV Protection Clubmaster Sunglasses (53)</td>\n",
       "      <td>₹313</td>\n",
       "    </tr>\n",
       "    <tr>\n",
       "      <th>2</th>\n",
       "      <td>DAHAAZIL</td>\n",
       "      <td>UV Protection, Night Vision, Riding Glasses Wa...</td>\n",
       "      <td>₹177</td>\n",
       "    </tr>\n",
       "    <tr>\n",
       "      <th>3</th>\n",
       "      <td>Fastrack</td>\n",
       "      <td>UV Protection Rectangular Sunglasses (Free Size)</td>\n",
       "      <td>₹639</td>\n",
       "    </tr>\n",
       "    <tr>\n",
       "      <th>4</th>\n",
       "      <td>New Specs</td>\n",
       "      <td>UV Protection Rectangular Sunglasses (Free Size)</td>\n",
       "      <td>₹264</td>\n",
       "    </tr>\n",
       "    <tr>\n",
       "      <th>...</th>\n",
       "      <td>...</td>\n",
       "      <td>...</td>\n",
       "      <td>...</td>\n",
       "    </tr>\n",
       "    <tr>\n",
       "      <th>95</th>\n",
       "      <td>ROYAL SON</td>\n",
       "      <td>UV Protection, Polarized Round Sunglasses (54)</td>\n",
       "      <td>₹664</td>\n",
       "    </tr>\n",
       "    <tr>\n",
       "      <th>96</th>\n",
       "      <td>SUNBEE</td>\n",
       "      <td>UV Protection, Polarized Wayfarer Sunglasses (...</td>\n",
       "      <td>₹268</td>\n",
       "    </tr>\n",
       "    <tr>\n",
       "      <th>97</th>\n",
       "      <td>Lee Topper</td>\n",
       "      <td>UV Protection Cat-eye Sunglasses (Free Size)</td>\n",
       "      <td>₹229</td>\n",
       "    </tr>\n",
       "    <tr>\n",
       "      <th>98</th>\n",
       "      <td>SHAAH COLLECTIONS</td>\n",
       "      <td>UV Protection, Polarized, Mirrored Rectangular...</td>\n",
       "      <td>₹185</td>\n",
       "    </tr>\n",
       "    <tr>\n",
       "      <th>99</th>\n",
       "      <td>ROYAL SON</td>\n",
       "      <td>Polarized, UV Protection Aviator Sunglasses (57)</td>\n",
       "      <td>₹759</td>\n",
       "    </tr>\n",
       "  </tbody>\n",
       "</table>\n",
       "<p>100 rows × 3 columns</p>\n",
       "</div>"
      ],
      "text/plain": [
       "               Brands                                Product Description Price\n",
       "0        Singco India  Gradient, Toughened Glass Lens, UV Protection ...  ₹567\n",
       "1        Silver Kartz           UV Protection Clubmaster Sunglasses (53)  ₹313\n",
       "2            DAHAAZIL  UV Protection, Night Vision, Riding Glasses Wa...  ₹177\n",
       "3            Fastrack   UV Protection Rectangular Sunglasses (Free Size)  ₹639\n",
       "4           New Specs   UV Protection Rectangular Sunglasses (Free Size)  ₹264\n",
       "..                ...                                                ...   ...\n",
       "95          ROYAL SON     UV Protection, Polarized Round Sunglasses (54)  ₹664\n",
       "96             SUNBEE  UV Protection, Polarized Wayfarer Sunglasses (...  ₹268\n",
       "97         Lee Topper       UV Protection Cat-eye Sunglasses (Free Size)  ₹229\n",
       "98  SHAAH COLLECTIONS  UV Protection, Polarized, Mirrored Rectangular...  ₹185\n",
       "99          ROYAL SON   Polarized, UV Protection Aviator Sunglasses (57)  ₹759\n",
       "\n",
       "[100 rows x 3 columns]"
      ]
     },
     "execution_count": 17,
     "metadata": {},
     "output_type": "execute_result"
    }
   ],
   "source": [
    "Data_4=pd.DataFrame()\n",
    "Data_4['Brands']=Brand\n",
    "Data_4['Product Description']=Product\n",
    "Data_4['Price']=Price\n",
    "Data_4"
   ]
  },
  {
   "cell_type": "markdown",
   "id": "11fe020e",
   "metadata": {},
   "source": [
    "Q5: Scrape 100 reviews data from flipkart.com for iphone11 phone.This task will be done in following steps:\n",
    "1. First get the webpage https://www.flipkart.com/\n",
    "2. Enter “iphone 11” in “Search” field . \n",
    "3. Then click the search button.\n",
    "\n",
    "You will reach to the below shown webpage .\n",
    "\n",
    "As shown in the above page you have to scrape the tick marked attributes.These are:\n",
    "1. Rating\n",
    "2. Review summary\n",
    "3. Full review\n",
    "4. You have to scrape this data for first 100 reviews."
   ]
  },
  {
   "cell_type": "code",
   "execution_count": 10,
   "id": "a0ad38cc",
   "metadata": {},
   "outputs": [],
   "source": [
    "driver = webdriver.Chrome(r\"C:\\Users\\prave\\Downloads\\Compressed\\chromedriver.exe\")\n",
    "url='https://www.flipkart.com/apple-iphone-11-black-64-gb-includes-earpods-power-adapter/product-reviews/itm0f37c2240b217?pid=MOBFKCTSVZAXUHGR&lid=LSTMOBFKCTSVZAXUHGREPBFGI&marketplace=FLIPKART'\n",
    "driver.get(url)"
   ]
  },
  {
   "cell_type": "code",
   "execution_count": 15,
   "id": "b115e05f",
   "metadata": {
    "collapsed": true
   },
   "outputs": [
    {
     "data": {
      "text/plain": [
       "['5',\n",
       " '5',\n",
       " '5',\n",
       " '5',\n",
       " '5',\n",
       " '5',\n",
       " '5',\n",
       " '5',\n",
       " '4',\n",
       " '5',\n",
       " '5',\n",
       " '5',\n",
       " '5',\n",
       " '5',\n",
       " '5',\n",
       " '5',\n",
       " '5',\n",
       " '5',\n",
       " '4',\n",
       " '5',\n",
       " '5',\n",
       " '5',\n",
       " '5',\n",
       " '5',\n",
       " '5',\n",
       " '5',\n",
       " '5',\n",
       " '5',\n",
       " '4',\n",
       " '5',\n",
       " '5',\n",
       " '5',\n",
       " '5',\n",
       " '5',\n",
       " '5',\n",
       " '5',\n",
       " '5',\n",
       " '5',\n",
       " '4',\n",
       " '5',\n",
       " '5',\n",
       " '5',\n",
       " '5',\n",
       " '5',\n",
       " '5',\n",
       " '5',\n",
       " '5',\n",
       " '5',\n",
       " '4',\n",
       " '5',\n",
       " '5',\n",
       " '5',\n",
       " '5',\n",
       " '5',\n",
       " '5',\n",
       " '5',\n",
       " '5',\n",
       " '5',\n",
       " '4',\n",
       " '5',\n",
       " '5',\n",
       " '5',\n",
       " '5',\n",
       " '5',\n",
       " '5',\n",
       " '5',\n",
       " '5',\n",
       " '5',\n",
       " '4',\n",
       " '5',\n",
       " '5',\n",
       " '5',\n",
       " '5',\n",
       " '5',\n",
       " '5',\n",
       " '5',\n",
       " '5',\n",
       " '5',\n",
       " '4',\n",
       " '5',\n",
       " '5',\n",
       " '5',\n",
       " '5',\n",
       " '5',\n",
       " '5',\n",
       " '5',\n",
       " '5',\n",
       " '5',\n",
       " '4',\n",
       " '5',\n",
       " '5',\n",
       " '5',\n",
       " '5',\n",
       " '5',\n",
       " '5',\n",
       " '5',\n",
       " '5',\n",
       " '5',\n",
       " '4',\n",
       " '5']"
      ]
     },
     "execution_count": 15,
     "metadata": {},
     "output_type": "execute_result"
    }
   ],
   "source": [
    "rating = driver.find_elements(By.XPATH,'//div[@class = \"_3LWZlK _1BLPMq\"]')\n",
    "\n",
    "Rating =[]\n",
    "\n",
    "while len(Rating)<=100:\n",
    "    Next_page = driver.find_elements(By.XPATH,\"//a[@class = '_3UAT2v _16PBlm']\")\n",
    "    for i in rating:\n",
    "        Rating.append(i.text)\n",
    "\n",
    "Rating = Rating[0:100]\n",
    "Rating"
   ]
  },
  {
   "cell_type": "code",
   "execution_count": 12,
   "id": "5f3b63a7",
   "metadata": {
    "collapsed": true
   },
   "outputs": [
    {
     "data": {
      "text/plain": [
       "['Simply awesome',\n",
       " 'Perfect product!',\n",
       " 'Best in the market!',\n",
       " 'Highly recommended',\n",
       " 'Worth every penny',\n",
       " 'Fabulous!',\n",
       " 'Great product',\n",
       " 'Worth every penny',\n",
       " 'Good choice',\n",
       " 'Highly recommended',\n",
       " 'Simply awesome',\n",
       " 'Perfect product!',\n",
       " 'Best in the market!',\n",
       " 'Highly recommended',\n",
       " 'Worth every penny',\n",
       " 'Fabulous!',\n",
       " 'Great product',\n",
       " 'Worth every penny',\n",
       " 'Good choice',\n",
       " 'Highly recommended',\n",
       " 'Simply awesome',\n",
       " 'Perfect product!',\n",
       " 'Best in the market!',\n",
       " 'Highly recommended',\n",
       " 'Worth every penny',\n",
       " 'Fabulous!',\n",
       " 'Great product',\n",
       " 'Worth every penny',\n",
       " 'Good choice',\n",
       " 'Highly recommended',\n",
       " 'Simply awesome',\n",
       " 'Perfect product!',\n",
       " 'Best in the market!',\n",
       " 'Highly recommended',\n",
       " 'Worth every penny',\n",
       " 'Fabulous!',\n",
       " 'Great product',\n",
       " 'Worth every penny',\n",
       " 'Good choice',\n",
       " 'Highly recommended',\n",
       " 'Simply awesome',\n",
       " 'Perfect product!',\n",
       " 'Best in the market!',\n",
       " 'Highly recommended',\n",
       " 'Worth every penny',\n",
       " 'Fabulous!',\n",
       " 'Great product',\n",
       " 'Worth every penny',\n",
       " 'Good choice',\n",
       " 'Highly recommended',\n",
       " 'Simply awesome',\n",
       " 'Perfect product!',\n",
       " 'Best in the market!',\n",
       " 'Highly recommended',\n",
       " 'Worth every penny',\n",
       " 'Fabulous!',\n",
       " 'Great product',\n",
       " 'Worth every penny',\n",
       " 'Good choice',\n",
       " 'Highly recommended',\n",
       " 'Simply awesome',\n",
       " 'Perfect product!',\n",
       " 'Best in the market!',\n",
       " 'Highly recommended',\n",
       " 'Worth every penny',\n",
       " 'Fabulous!',\n",
       " 'Great product',\n",
       " 'Worth every penny',\n",
       " 'Good choice',\n",
       " 'Highly recommended',\n",
       " 'Simply awesome',\n",
       " 'Perfect product!',\n",
       " 'Best in the market!',\n",
       " 'Highly recommended',\n",
       " 'Worth every penny',\n",
       " 'Fabulous!',\n",
       " 'Great product',\n",
       " 'Worth every penny',\n",
       " 'Good choice',\n",
       " 'Highly recommended',\n",
       " 'Simply awesome',\n",
       " 'Perfect product!',\n",
       " 'Best in the market!',\n",
       " 'Highly recommended',\n",
       " 'Worth every penny',\n",
       " 'Fabulous!',\n",
       " 'Great product',\n",
       " 'Worth every penny',\n",
       " 'Good choice',\n",
       " 'Highly recommended',\n",
       " 'Simply awesome',\n",
       " 'Perfect product!',\n",
       " 'Best in the market!',\n",
       " 'Highly recommended',\n",
       " 'Worth every penny',\n",
       " 'Fabulous!',\n",
       " 'Great product',\n",
       " 'Worth every penny',\n",
       " 'Good choice',\n",
       " 'Highly recommended']"
      ]
     },
     "execution_count": 12,
     "metadata": {},
     "output_type": "execute_result"
    }
   ],
   "source": [
    "review = driver.find_elements(By.XPATH,\"//p[@class='_2-N8zT']\")\n",
    "\n",
    "Review =[]\n",
    "\n",
    "while len(Review)<=100:\n",
    "    Next_page = driver.find_elements(By.XPATH,\"//a[@class = '_3UAT2v _16PBlm']\")\n",
    "    for i in review:\n",
    "        Review.append(i.text)\n",
    "\n",
    "Review = Review[0:100]\n",
    "Review"
   ]
  },
  {
   "cell_type": "code",
   "execution_count": 13,
   "id": "f8421cfa",
   "metadata": {
    "collapsed": true
   },
   "outputs": [
    {
     "data": {
      "text/plain": [
       "['Really satisfied with the Product I received... It’s totally genuine and the packaging was also really good so if ur planning to buy just go for it.',\n",
       " 'Amazing phone with great cameras and better battery which gives you the best performance. I just love the camera .',\n",
       " 'Great iPhone very snappy experience as apple kind. Upgraded from iPhone 7.\\nPros\\n-Camera top class\\n- Battery top performed\\n-Chipset no need to say as apple kind\\n-Security as you expect from apple\\n- Display super bright industry leading colour\\naccuracy and super responsive\\n-Build quality as expect from apple sturdy\\npremium durable beautiful stylish.\\n-Os most stable os in smartphone industry\\n\\nCons\\n-No 5G\\n-Display is not based on OLED technology\\n-Charger headphones and 1 apple stic...\\nREAD MORE',\n",
       " 'What a camera .....just awesome ..you can feel this iPhone just awesome . Good for gaming also ...try pubg in hd it’s just wow',\n",
       " 'Previously I was using one plus 3t it was a great phone\\nAnd then I decided to upgrade I am stuck between Samsung s10 plus or iPhone 11\\nI have seen the specs and everything were good except the display it’s somewhere between 720-1080 and it’s not even an amoled it’s an LCD display\\nBut I decided to go with iPhone because I have never used an IOS device I have Been an android user from the past 9 years I ordered IPhone 11 (128gb) product red\\nMy experience after using 3 weeks\\n1. The delivery ...\\nREAD MORE',\n",
       " 'This is my first iOS phone. I am very happy with this product. Very much satisfied with this. I love this phone.',\n",
       " 'Amazing Powerful and Durable Gadget.\\n\\nI’m am very happy with the camera picture quality, Amazing face id unlocked in dark room, Strong battery with perfect screen size as you can carry easily in pocket. This is my third iPhone.\\n\\nI shifted from android Samsung Note series to iPhone because of the strong build quality and peace of mind for next 3-4 years.\\n\\nDon’t think to much just go for it and I suggest you to go for minimum 128gb variant or more 256gb.\\n\\nI’ve attached my puppy pics and no fi...\\nREAD MORE',\n",
       " 'i11 is worthy to buy, too much happy with the product. Thank u flipkart I received the item on time..loved it..',\n",
       " 'So far it’s been an AMAZING experience coming back to iOS after nearly a decade but it’s not as versatile as android though phone is sturdy dropped it accidentally a couple of times and nothing happened fortunately camera is awesome',\n",
       " 'iphone 11 is a very good phone to buy only if you can compromise for the display. The display on this is device is pretty good but you can get other options with better displays in this price segment.\\nIf you can survive with an HD+ LCD panel with thicker bezels and a notch up top then this is a very good phone for you.\\nCameras are awesome, battery backup excellent, great performance and a decent premium look. Good job Apple !',\n",
       " 'Really satisfied with the Product I received... It’s totally genuine and the packaging was also really good so if ur planning to buy just go for it.',\n",
       " 'Amazing phone with great cameras and better battery which gives you the best performance. I just love the camera .',\n",
       " 'Great iPhone very snappy experience as apple kind. Upgraded from iPhone 7.\\nPros\\n-Camera top class\\n- Battery top performed\\n-Chipset no need to say as apple kind\\n-Security as you expect from apple\\n- Display super bright industry leading colour\\naccuracy and super responsive\\n-Build quality as expect from apple sturdy\\npremium durable beautiful stylish.\\n-Os most stable os in smartphone industry\\n\\nCons\\n-No 5G\\n-Display is not based on OLED technology\\n-Charger headphones and 1 apple stic...\\nREAD MORE',\n",
       " 'What a camera .....just awesome ..you can feel this iPhone just awesome . Good for gaming also ...try pubg in hd it’s just wow',\n",
       " 'Previously I was using one plus 3t it was a great phone\\nAnd then I decided to upgrade I am stuck between Samsung s10 plus or iPhone 11\\nI have seen the specs and everything were good except the display it’s somewhere between 720-1080 and it’s not even an amoled it’s an LCD display\\nBut I decided to go with iPhone because I have never used an IOS device I have Been an android user from the past 9 years I ordered IPhone 11 (128gb) product red\\nMy experience after using 3 weeks\\n1. The delivery ...\\nREAD MORE',\n",
       " 'This is my first iOS phone. I am very happy with this product. Very much satisfied with this. I love this phone.',\n",
       " 'Amazing Powerful and Durable Gadget.\\n\\nI’m am very happy with the camera picture quality, Amazing face id unlocked in dark room, Strong battery with perfect screen size as you can carry easily in pocket. This is my third iPhone.\\n\\nI shifted from android Samsung Note series to iPhone because of the strong build quality and peace of mind for next 3-4 years.\\n\\nDon’t think to much just go for it and I suggest you to go for minimum 128gb variant or more 256gb.\\n\\nI’ve attached my puppy pics and no fi...\\nREAD MORE',\n",
       " 'i11 is worthy to buy, too much happy with the product. Thank u flipkart I received the item on time..loved it..',\n",
       " 'So far it’s been an AMAZING experience coming back to iOS after nearly a decade but it’s not as versatile as android though phone is sturdy dropped it accidentally a couple of times and nothing happened fortunately camera is awesome',\n",
       " 'iphone 11 is a very good phone to buy only if you can compromise for the display. The display on this is device is pretty good but you can get other options with better displays in this price segment.\\nIf you can survive with an HD+ LCD panel with thicker bezels and a notch up top then this is a very good phone for you.\\nCameras are awesome, battery backup excellent, great performance and a decent premium look. Good job Apple !',\n",
       " 'Really satisfied with the Product I received... It’s totally genuine and the packaging was also really good so if ur planning to buy just go for it.',\n",
       " 'Amazing phone with great cameras and better battery which gives you the best performance. I just love the camera .',\n",
       " 'Great iPhone very snappy experience as apple kind. Upgraded from iPhone 7.\\nPros\\n-Camera top class\\n- Battery top performed\\n-Chipset no need to say as apple kind\\n-Security as you expect from apple\\n- Display super bright industry leading colour\\naccuracy and super responsive\\n-Build quality as expect from apple sturdy\\npremium durable beautiful stylish.\\n-Os most stable os in smartphone industry\\n\\nCons\\n-No 5G\\n-Display is not based on OLED technology\\n-Charger headphones and 1 apple stic...\\nREAD MORE',\n",
       " 'What a camera .....just awesome ..you can feel this iPhone just awesome . Good for gaming also ...try pubg in hd it’s just wow',\n",
       " 'Previously I was using one plus 3t it was a great phone\\nAnd then I decided to upgrade I am stuck between Samsung s10 plus or iPhone 11\\nI have seen the specs and everything were good except the display it’s somewhere between 720-1080 and it’s not even an amoled it’s an LCD display\\nBut I decided to go with iPhone because I have never used an IOS device I have Been an android user from the past 9 years I ordered IPhone 11 (128gb) product red\\nMy experience after using 3 weeks\\n1. The delivery ...\\nREAD MORE',\n",
       " 'This is my first iOS phone. I am very happy with this product. Very much satisfied with this. I love this phone.',\n",
       " 'Amazing Powerful and Durable Gadget.\\n\\nI’m am very happy with the camera picture quality, Amazing face id unlocked in dark room, Strong battery with perfect screen size as you can carry easily in pocket. This is my third iPhone.\\n\\nI shifted from android Samsung Note series to iPhone because of the strong build quality and peace of mind for next 3-4 years.\\n\\nDon’t think to much just go for it and I suggest you to go for minimum 128gb variant or more 256gb.\\n\\nI’ve attached my puppy pics and no fi...\\nREAD MORE',\n",
       " 'i11 is worthy to buy, too much happy with the product. Thank u flipkart I received the item on time..loved it..',\n",
       " 'So far it’s been an AMAZING experience coming back to iOS after nearly a decade but it’s not as versatile as android though phone is sturdy dropped it accidentally a couple of times and nothing happened fortunately camera is awesome',\n",
       " 'iphone 11 is a very good phone to buy only if you can compromise for the display. The display on this is device is pretty good but you can get other options with better displays in this price segment.\\nIf you can survive with an HD+ LCD panel with thicker bezels and a notch up top then this is a very good phone for you.\\nCameras are awesome, battery backup excellent, great performance and a decent premium look. Good job Apple !',\n",
       " 'Really satisfied with the Product I received... It’s totally genuine and the packaging was also really good so if ur planning to buy just go for it.',\n",
       " 'Amazing phone with great cameras and better battery which gives you the best performance. I just love the camera .',\n",
       " 'Great iPhone very snappy experience as apple kind. Upgraded from iPhone 7.\\nPros\\n-Camera top class\\n- Battery top performed\\n-Chipset no need to say as apple kind\\n-Security as you expect from apple\\n- Display super bright industry leading colour\\naccuracy and super responsive\\n-Build quality as expect from apple sturdy\\npremium durable beautiful stylish.\\n-Os most stable os in smartphone industry\\n\\nCons\\n-No 5G\\n-Display is not based on OLED technology\\n-Charger headphones and 1 apple stic...\\nREAD MORE',\n",
       " 'What a camera .....just awesome ..you can feel this iPhone just awesome . Good for gaming also ...try pubg in hd it’s just wow',\n",
       " 'Previously I was using one plus 3t it was a great phone\\nAnd then I decided to upgrade I am stuck between Samsung s10 plus or iPhone 11\\nI have seen the specs and everything were good except the display it’s somewhere between 720-1080 and it’s not even an amoled it’s an LCD display\\nBut I decided to go with iPhone because I have never used an IOS device I have Been an android user from the past 9 years I ordered IPhone 11 (128gb) product red\\nMy experience after using 3 weeks\\n1. The delivery ...\\nREAD MORE',\n",
       " 'This is my first iOS phone. I am very happy with this product. Very much satisfied with this. I love this phone.',\n",
       " 'Amazing Powerful and Durable Gadget.\\n\\nI’m am very happy with the camera picture quality, Amazing face id unlocked in dark room, Strong battery with perfect screen size as you can carry easily in pocket. This is my third iPhone.\\n\\nI shifted from android Samsung Note series to iPhone because of the strong build quality and peace of mind for next 3-4 years.\\n\\nDon’t think to much just go for it and I suggest you to go for minimum 128gb variant or more 256gb.\\n\\nI’ve attached my puppy pics and no fi...\\nREAD MORE',\n",
       " 'i11 is worthy to buy, too much happy with the product. Thank u flipkart I received the item on time..loved it..',\n",
       " 'So far it’s been an AMAZING experience coming back to iOS after nearly a decade but it’s not as versatile as android though phone is sturdy dropped it accidentally a couple of times and nothing happened fortunately camera is awesome',\n",
       " 'iphone 11 is a very good phone to buy only if you can compromise for the display. The display on this is device is pretty good but you can get other options with better displays in this price segment.\\nIf you can survive with an HD+ LCD panel with thicker bezels and a notch up top then this is a very good phone for you.\\nCameras are awesome, battery backup excellent, great performance and a decent premium look. Good job Apple !',\n",
       " 'Really satisfied with the Product I received... It’s totally genuine and the packaging was also really good so if ur planning to buy just go for it.',\n",
       " 'Amazing phone with great cameras and better battery which gives you the best performance. I just love the camera .',\n",
       " 'Great iPhone very snappy experience as apple kind. Upgraded from iPhone 7.\\nPros\\n-Camera top class\\n- Battery top performed\\n-Chipset no need to say as apple kind\\n-Security as you expect from apple\\n- Display super bright industry leading colour\\naccuracy and super responsive\\n-Build quality as expect from apple sturdy\\npremium durable beautiful stylish.\\n-Os most stable os in smartphone industry\\n\\nCons\\n-No 5G\\n-Display is not based on OLED technology\\n-Charger headphones and 1 apple stic...\\nREAD MORE',\n",
       " 'What a camera .....just awesome ..you can feel this iPhone just awesome . Good for gaming also ...try pubg in hd it’s just wow',\n",
       " 'Previously I was using one plus 3t it was a great phone\\nAnd then I decided to upgrade I am stuck between Samsung s10 plus or iPhone 11\\nI have seen the specs and everything were good except the display it’s somewhere between 720-1080 and it’s not even an amoled it’s an LCD display\\nBut I decided to go with iPhone because I have never used an IOS device I have Been an android user from the past 9 years I ordered IPhone 11 (128gb) product red\\nMy experience after using 3 weeks\\n1. The delivery ...\\nREAD MORE',\n",
       " 'This is my first iOS phone. I am very happy with this product. Very much satisfied with this. I love this phone.',\n",
       " 'Amazing Powerful and Durable Gadget.\\n\\nI’m am very happy with the camera picture quality, Amazing face id unlocked in dark room, Strong battery with perfect screen size as you can carry easily in pocket. This is my third iPhone.\\n\\nI shifted from android Samsung Note series to iPhone because of the strong build quality and peace of mind for next 3-4 years.\\n\\nDon’t think to much just go for it and I suggest you to go for minimum 128gb variant or more 256gb.\\n\\nI’ve attached my puppy pics and no fi...\\nREAD MORE',\n",
       " 'i11 is worthy to buy, too much happy with the product. Thank u flipkart I received the item on time..loved it..',\n",
       " 'So far it’s been an AMAZING experience coming back to iOS after nearly a decade but it’s not as versatile as android though phone is sturdy dropped it accidentally a couple of times and nothing happened fortunately camera is awesome',\n",
       " 'iphone 11 is a very good phone to buy only if you can compromise for the display. The display on this is device is pretty good but you can get other options with better displays in this price segment.\\nIf you can survive with an HD+ LCD panel with thicker bezels and a notch up top then this is a very good phone for you.\\nCameras are awesome, battery backup excellent, great performance and a decent premium look. Good job Apple !',\n",
       " 'Really satisfied with the Product I received... It’s totally genuine and the packaging was also really good so if ur planning to buy just go for it.',\n",
       " 'Amazing phone with great cameras and better battery which gives you the best performance. I just love the camera .',\n",
       " 'Great iPhone very snappy experience as apple kind. Upgraded from iPhone 7.\\nPros\\n-Camera top class\\n- Battery top performed\\n-Chipset no need to say as apple kind\\n-Security as you expect from apple\\n- Display super bright industry leading colour\\naccuracy and super responsive\\n-Build quality as expect from apple sturdy\\npremium durable beautiful stylish.\\n-Os most stable os in smartphone industry\\n\\nCons\\n-No 5G\\n-Display is not based on OLED technology\\n-Charger headphones and 1 apple stic...\\nREAD MORE',\n",
       " 'What a camera .....just awesome ..you can feel this iPhone just awesome . Good for gaming also ...try pubg in hd it’s just wow',\n",
       " 'Previously I was using one plus 3t it was a great phone\\nAnd then I decided to upgrade I am stuck between Samsung s10 plus or iPhone 11\\nI have seen the specs and everything were good except the display it’s somewhere between 720-1080 and it’s not even an amoled it’s an LCD display\\nBut I decided to go with iPhone because I have never used an IOS device I have Been an android user from the past 9 years I ordered IPhone 11 (128gb) product red\\nMy experience after using 3 weeks\\n1. The delivery ...\\nREAD MORE',\n",
       " 'This is my first iOS phone. I am very happy with this product. Very much satisfied with this. I love this phone.',\n",
       " 'Amazing Powerful and Durable Gadget.\\n\\nI’m am very happy with the camera picture quality, Amazing face id unlocked in dark room, Strong battery with perfect screen size as you can carry easily in pocket. This is my third iPhone.\\n\\nI shifted from android Samsung Note series to iPhone because of the strong build quality and peace of mind for next 3-4 years.\\n\\nDon’t think to much just go for it and I suggest you to go for minimum 128gb variant or more 256gb.\\n\\nI’ve attached my puppy pics and no fi...\\nREAD MORE',\n",
       " 'i11 is worthy to buy, too much happy with the product. Thank u flipkart I received the item on time..loved it..',\n",
       " 'So far it’s been an AMAZING experience coming back to iOS after nearly a decade but it’s not as versatile as android though phone is sturdy dropped it accidentally a couple of times and nothing happened fortunately camera is awesome',\n",
       " 'iphone 11 is a very good phone to buy only if you can compromise for the display. The display on this is device is pretty good but you can get other options with better displays in this price segment.\\nIf you can survive with an HD+ LCD panel with thicker bezels and a notch up top then this is a very good phone for you.\\nCameras are awesome, battery backup excellent, great performance and a decent premium look. Good job Apple !',\n",
       " 'Really satisfied with the Product I received... It’s totally genuine and the packaging was also really good so if ur planning to buy just go for it.',\n",
       " 'Amazing phone with great cameras and better battery which gives you the best performance. I just love the camera .',\n",
       " 'Great iPhone very snappy experience as apple kind. Upgraded from iPhone 7.\\nPros\\n-Camera top class\\n- Battery top performed\\n-Chipset no need to say as apple kind\\n-Security as you expect from apple\\n- Display super bright industry leading colour\\naccuracy and super responsive\\n-Build quality as expect from apple sturdy\\npremium durable beautiful stylish.\\n-Os most stable os in smartphone industry\\n\\nCons\\n-No 5G\\n-Display is not based on OLED technology\\n-Charger headphones and 1 apple stic...\\nREAD MORE',\n",
       " 'What a camera .....just awesome ..you can feel this iPhone just awesome . Good for gaming also ...try pubg in hd it’s just wow',\n",
       " 'Previously I was using one plus 3t it was a great phone\\nAnd then I decided to upgrade I am stuck between Samsung s10 plus or iPhone 11\\nI have seen the specs and everything were good except the display it’s somewhere between 720-1080 and it’s not even an amoled it’s an LCD display\\nBut I decided to go with iPhone because I have never used an IOS device I have Been an android user from the past 9 years I ordered IPhone 11 (128gb) product red\\nMy experience after using 3 weeks\\n1. The delivery ...\\nREAD MORE',\n",
       " 'This is my first iOS phone. I am very happy with this product. Very much satisfied with this. I love this phone.',\n",
       " 'Amazing Powerful and Durable Gadget.\\n\\nI’m am very happy with the camera picture quality, Amazing face id unlocked in dark room, Strong battery with perfect screen size as you can carry easily in pocket. This is my third iPhone.\\n\\nI shifted from android Samsung Note series to iPhone because of the strong build quality and peace of mind for next 3-4 years.\\n\\nDon’t think to much just go for it and I suggest you to go for minimum 128gb variant or more 256gb.\\n\\nI’ve attached my puppy pics and no fi...\\nREAD MORE',\n",
       " 'i11 is worthy to buy, too much happy with the product. Thank u flipkart I received the item on time..loved it..',\n",
       " 'So far it’s been an AMAZING experience coming back to iOS after nearly a decade but it’s not as versatile as android though phone is sturdy dropped it accidentally a couple of times and nothing happened fortunately camera is awesome',\n",
       " 'iphone 11 is a very good phone to buy only if you can compromise for the display. The display on this is device is pretty good but you can get other options with better displays in this price segment.\\nIf you can survive with an HD+ LCD panel with thicker bezels and a notch up top then this is a very good phone for you.\\nCameras are awesome, battery backup excellent, great performance and a decent premium look. Good job Apple !',\n",
       " 'Really satisfied with the Product I received... It’s totally genuine and the packaging was also really good so if ur planning to buy just go for it.',\n",
       " 'Amazing phone with great cameras and better battery which gives you the best performance. I just love the camera .',\n",
       " 'Great iPhone very snappy experience as apple kind. Upgraded from iPhone 7.\\nPros\\n-Camera top class\\n- Battery top performed\\n-Chipset no need to say as apple kind\\n-Security as you expect from apple\\n- Display super bright industry leading colour\\naccuracy and super responsive\\n-Build quality as expect from apple sturdy\\npremium durable beautiful stylish.\\n-Os most stable os in smartphone industry\\n\\nCons\\n-No 5G\\n-Display is not based on OLED technology\\n-Charger headphones and 1 apple stic...\\nREAD MORE',\n",
       " 'What a camera .....just awesome ..you can feel this iPhone just awesome . Good for gaming also ...try pubg in hd it’s just wow',\n",
       " 'Previously I was using one plus 3t it was a great phone\\nAnd then I decided to upgrade I am stuck between Samsung s10 plus or iPhone 11\\nI have seen the specs and everything were good except the display it’s somewhere between 720-1080 and it’s not even an amoled it’s an LCD display\\nBut I decided to go with iPhone because I have never used an IOS device I have Been an android user from the past 9 years I ordered IPhone 11 (128gb) product red\\nMy experience after using 3 weeks\\n1. The delivery ...\\nREAD MORE',\n",
       " 'This is my first iOS phone. I am very happy with this product. Very much satisfied with this. I love this phone.',\n",
       " 'Amazing Powerful and Durable Gadget.\\n\\nI’m am very happy with the camera picture quality, Amazing face id unlocked in dark room, Strong battery with perfect screen size as you can carry easily in pocket. This is my third iPhone.\\n\\nI shifted from android Samsung Note series to iPhone because of the strong build quality and peace of mind for next 3-4 years.\\n\\nDon’t think to much just go for it and I suggest you to go for minimum 128gb variant or more 256gb.\\n\\nI’ve attached my puppy pics and no fi...\\nREAD MORE',\n",
       " 'i11 is worthy to buy, too much happy with the product. Thank u flipkart I received the item on time..loved it..',\n",
       " 'So far it’s been an AMAZING experience coming back to iOS after nearly a decade but it’s not as versatile as android though phone is sturdy dropped it accidentally a couple of times and nothing happened fortunately camera is awesome',\n",
       " 'iphone 11 is a very good phone to buy only if you can compromise for the display. The display on this is device is pretty good but you can get other options with better displays in this price segment.\\nIf you can survive with an HD+ LCD panel with thicker bezels and a notch up top then this is a very good phone for you.\\nCameras are awesome, battery backup excellent, great performance and a decent premium look. Good job Apple !',\n",
       " 'Really satisfied with the Product I received... It’s totally genuine and the packaging was also really good so if ur planning to buy just go for it.',\n",
       " 'Amazing phone with great cameras and better battery which gives you the best performance. I just love the camera .',\n",
       " 'Great iPhone very snappy experience as apple kind. Upgraded from iPhone 7.\\nPros\\n-Camera top class\\n- Battery top performed\\n-Chipset no need to say as apple kind\\n-Security as you expect from apple\\n- Display super bright industry leading colour\\naccuracy and super responsive\\n-Build quality as expect from apple sturdy\\npremium durable beautiful stylish.\\n-Os most stable os in smartphone industry\\n\\nCons\\n-No 5G\\n-Display is not based on OLED technology\\n-Charger headphones and 1 apple stic...\\nREAD MORE',\n",
       " 'What a camera .....just awesome ..you can feel this iPhone just awesome . Good for gaming also ...try pubg in hd it’s just wow',\n",
       " 'Previously I was using one plus 3t it was a great phone\\nAnd then I decided to upgrade I am stuck between Samsung s10 plus or iPhone 11\\nI have seen the specs and everything were good except the display it’s somewhere between 720-1080 and it’s not even an amoled it’s an LCD display\\nBut I decided to go with iPhone because I have never used an IOS device I have Been an android user from the past 9 years I ordered IPhone 11 (128gb) product red\\nMy experience after using 3 weeks\\n1. The delivery ...\\nREAD MORE',\n",
       " 'This is my first iOS phone. I am very happy with this product. Very much satisfied with this. I love this phone.',\n",
       " 'Amazing Powerful and Durable Gadget.\\n\\nI’m am very happy with the camera picture quality, Amazing face id unlocked in dark room, Strong battery with perfect screen size as you can carry easily in pocket. This is my third iPhone.\\n\\nI shifted from android Samsung Note series to iPhone because of the strong build quality and peace of mind for next 3-4 years.\\n\\nDon’t think to much just go for it and I suggest you to go for minimum 128gb variant or more 256gb.\\n\\nI’ve attached my puppy pics and no fi...\\nREAD MORE',\n",
       " 'i11 is worthy to buy, too much happy with the product. Thank u flipkart I received the item on time..loved it..',\n",
       " 'So far it’s been an AMAZING experience coming back to iOS after nearly a decade but it’s not as versatile as android though phone is sturdy dropped it accidentally a couple of times and nothing happened fortunately camera is awesome',\n",
       " 'iphone 11 is a very good phone to buy only if you can compromise for the display. The display on this is device is pretty good but you can get other options with better displays in this price segment.\\nIf you can survive with an HD+ LCD panel with thicker bezels and a notch up top then this is a very good phone for you.\\nCameras are awesome, battery backup excellent, great performance and a decent premium look. Good job Apple !',\n",
       " 'Really satisfied with the Product I received... It’s totally genuine and the packaging was also really good so if ur planning to buy just go for it.',\n",
       " 'Amazing phone with great cameras and better battery which gives you the best performance. I just love the camera .',\n",
       " 'Great iPhone very snappy experience as apple kind. Upgraded from iPhone 7.\\nPros\\n-Camera top class\\n- Battery top performed\\n-Chipset no need to say as apple kind\\n-Security as you expect from apple\\n- Display super bright industry leading colour\\naccuracy and super responsive\\n-Build quality as expect from apple sturdy\\npremium durable beautiful stylish.\\n-Os most stable os in smartphone industry\\n\\nCons\\n-No 5G\\n-Display is not based on OLED technology\\n-Charger headphones and 1 apple stic...\\nREAD MORE',\n",
       " 'What a camera .....just awesome ..you can feel this iPhone just awesome . Good for gaming also ...try pubg in hd it’s just wow',\n",
       " 'Previously I was using one plus 3t it was a great phone\\nAnd then I decided to upgrade I am stuck between Samsung s10 plus or iPhone 11\\nI have seen the specs and everything were good except the display it’s somewhere between 720-1080 and it’s not even an amoled it’s an LCD display\\nBut I decided to go with iPhone because I have never used an IOS device I have Been an android user from the past 9 years I ordered IPhone 11 (128gb) product red\\nMy experience after using 3 weeks\\n1. The delivery ...\\nREAD MORE',\n",
       " 'This is my first iOS phone. I am very happy with this product. Very much satisfied with this. I love this phone.',\n",
       " 'Amazing Powerful and Durable Gadget.\\n\\nI’m am very happy with the camera picture quality, Amazing face id unlocked in dark room, Strong battery with perfect screen size as you can carry easily in pocket. This is my third iPhone.\\n\\nI shifted from android Samsung Note series to iPhone because of the strong build quality and peace of mind for next 3-4 years.\\n\\nDon’t think to much just go for it and I suggest you to go for minimum 128gb variant or more 256gb.\\n\\nI’ve attached my puppy pics and no fi...\\nREAD MORE',\n",
       " 'i11 is worthy to buy, too much happy with the product. Thank u flipkart I received the item on time..loved it..',\n",
       " 'So far it’s been an AMAZING experience coming back to iOS after nearly a decade but it’s not as versatile as android though phone is sturdy dropped it accidentally a couple of times and nothing happened fortunately camera is awesome',\n",
       " 'iphone 11 is a very good phone to buy only if you can compromise for the display. The display on this is device is pretty good but you can get other options with better displays in this price segment.\\nIf you can survive with an HD+ LCD panel with thicker bezels and a notch up top then this is a very good phone for you.\\nCameras are awesome, battery backup excellent, great performance and a decent premium look. Good job Apple !']"
      ]
     },
     "execution_count": 13,
     "metadata": {},
     "output_type": "execute_result"
    }
   ],
   "source": [
    "full_review = driver.find_elements(By.XPATH,'//div[@class=\"t-ZTKy\"]')\n",
    "\n",
    "Full_review =[]\n",
    "\n",
    "while len(Full_review)<=100:\n",
    "    Next_page = driver.find_elements(By.XPATH,\"//a[@class = '_3UAT2v _16PBlm']\")\n",
    "    for i in full_review:\n",
    "        Full_review.append(i.text)\n",
    "\n",
    "Full_review = Full_review[0:100]\n",
    "Full_review"
   ]
  },
  {
   "cell_type": "code",
   "execution_count": 14,
   "id": "e9223596",
   "metadata": {},
   "outputs": [
    {
     "data": {
      "text/html": [
       "<div>\n",
       "<style scoped>\n",
       "    .dataframe tbody tr th:only-of-type {\n",
       "        vertical-align: middle;\n",
       "    }\n",
       "\n",
       "    .dataframe tbody tr th {\n",
       "        vertical-align: top;\n",
       "    }\n",
       "\n",
       "    .dataframe thead th {\n",
       "        text-align: right;\n",
       "    }\n",
       "</style>\n",
       "<table border=\"1\" class=\"dataframe\">\n",
       "  <thead>\n",
       "    <tr style=\"text-align: right;\">\n",
       "      <th></th>\n",
       "      <th>Rating</th>\n",
       "      <th>Review Summary</th>\n",
       "      <th>Full Review</th>\n",
       "    </tr>\n",
       "  </thead>\n",
       "  <tbody>\n",
       "    <tr>\n",
       "      <th>0</th>\n",
       "      <td>5</td>\n",
       "      <td>Simply awesome</td>\n",
       "      <td>Really satisfied with the Product I received.....</td>\n",
       "    </tr>\n",
       "    <tr>\n",
       "      <th>1</th>\n",
       "      <td>5</td>\n",
       "      <td>Perfect product!</td>\n",
       "      <td>Amazing phone with great cameras and better ba...</td>\n",
       "    </tr>\n",
       "    <tr>\n",
       "      <th>2</th>\n",
       "      <td>5</td>\n",
       "      <td>Best in the market!</td>\n",
       "      <td>Great iPhone very snappy experience as apple k...</td>\n",
       "    </tr>\n",
       "    <tr>\n",
       "      <th>3</th>\n",
       "      <td>5</td>\n",
       "      <td>Highly recommended</td>\n",
       "      <td>What a camera .....just awesome ..you can feel...</td>\n",
       "    </tr>\n",
       "    <tr>\n",
       "      <th>4</th>\n",
       "      <td>5</td>\n",
       "      <td>Worth every penny</td>\n",
       "      <td>Previously I was using one plus 3t it was a gr...</td>\n",
       "    </tr>\n",
       "    <tr>\n",
       "      <th>...</th>\n",
       "      <td>...</td>\n",
       "      <td>...</td>\n",
       "      <td>...</td>\n",
       "    </tr>\n",
       "    <tr>\n",
       "      <th>95</th>\n",
       "      <td>5</td>\n",
       "      <td>Fabulous!</td>\n",
       "      <td>This is my first iOS phone. I am very happy wi...</td>\n",
       "    </tr>\n",
       "    <tr>\n",
       "      <th>96</th>\n",
       "      <td>5</td>\n",
       "      <td>Great product</td>\n",
       "      <td>Amazing Powerful and Durable Gadget.\\n\\nI’m am...</td>\n",
       "    </tr>\n",
       "    <tr>\n",
       "      <th>97</th>\n",
       "      <td>5</td>\n",
       "      <td>Worth every penny</td>\n",
       "      <td>i11 is worthy to buy, too much happy with the ...</td>\n",
       "    </tr>\n",
       "    <tr>\n",
       "      <th>98</th>\n",
       "      <td>4</td>\n",
       "      <td>Good choice</td>\n",
       "      <td>So far it’s been an AMAZING experience coming ...</td>\n",
       "    </tr>\n",
       "    <tr>\n",
       "      <th>99</th>\n",
       "      <td>5</td>\n",
       "      <td>Highly recommended</td>\n",
       "      <td>iphone 11 is a very good phone to buy only if ...</td>\n",
       "    </tr>\n",
       "  </tbody>\n",
       "</table>\n",
       "<p>100 rows × 3 columns</p>\n",
       "</div>"
      ],
      "text/plain": [
       "   Rating       Review Summary  \\\n",
       "0       5       Simply awesome   \n",
       "1       5     Perfect product!   \n",
       "2       5  Best in the market!   \n",
       "3       5   Highly recommended   \n",
       "4       5    Worth every penny   \n",
       "..    ...                  ...   \n",
       "95      5            Fabulous!   \n",
       "96      5        Great product   \n",
       "97      5    Worth every penny   \n",
       "98      4          Good choice   \n",
       "99      5   Highly recommended   \n",
       "\n",
       "                                          Full Review  \n",
       "0   Really satisfied with the Product I received.....  \n",
       "1   Amazing phone with great cameras and better ba...  \n",
       "2   Great iPhone very snappy experience as apple k...  \n",
       "3   What a camera .....just awesome ..you can feel...  \n",
       "4   Previously I was using one plus 3t it was a gr...  \n",
       "..                                                ...  \n",
       "95  This is my first iOS phone. I am very happy wi...  \n",
       "96  Amazing Powerful and Durable Gadget.\\n\\nI’m am...  \n",
       "97  i11 is worthy to buy, too much happy with the ...  \n",
       "98  So far it’s been an AMAZING experience coming ...  \n",
       "99  iphone 11 is a very good phone to buy only if ...  \n",
       "\n",
       "[100 rows x 3 columns]"
      ]
     },
     "execution_count": 14,
     "metadata": {},
     "output_type": "execute_result"
    }
   ],
   "source": [
    "Data_5=pd.DataFrame()\n",
    "Data_5['Rating']=Rating\n",
    "Data_5['Review Summary']=Review\n",
    "Data_5['Full Review']=Full_review\n",
    "Data_5"
   ]
  },
  {
   "cell_type": "markdown",
   "id": "84921693",
   "metadata": {},
   "source": [
    "Q6: Scrape data for first 100 sneakers you find when you visit flipkart.com and search for “sneakers” in the \n",
    "search field.\n",
    "You have to scrape 4 attributes of each sneaker:\n",
    "1. Brand\n",
    "2. Product Description\n",
    "3. Price\n",
    "\n",
    "As shown in the below image, you have to scrape the tick marked attributes.\n"
   ]
  },
  {
   "cell_type": "code",
   "execution_count": 16,
   "id": "6bc5f651",
   "metadata": {},
   "outputs": [],
   "source": [
    "driver = webdriver.Chrome(r\"C:\\Users\\prave\\Downloads\\Compressed\\chromedriver.exe\")\n",
    "url='https://www.flipkart.com'\n",
    "driver.get(url)"
   ]
  },
  {
   "cell_type": "code",
   "execution_count": 17,
   "id": "4db06697",
   "metadata": {},
   "outputs": [],
   "source": [
    "search = driver.find_element(By.CLASS_NAME,'_3704LK')\n",
    "search.send_keys(\"sneakers\")"
   ]
  },
  {
   "cell_type": "code",
   "execution_count": 20,
   "id": "60681551",
   "metadata": {},
   "outputs": [],
   "source": [
    "search_bott = driver.find_element(By.XPATH,'/html/body/div[1]/div/div[1]/div[1]/div[2]/div[2]/form/div/button')\n",
    "search_bott.click()"
   ]
  },
  {
   "cell_type": "code",
   "execution_count": 21,
   "id": "3e7b245f",
   "metadata": {},
   "outputs": [
    {
     "data": {
      "text/plain": [
       "100"
      ]
     },
     "execution_count": 21,
     "metadata": {},
     "output_type": "execute_result"
    }
   ],
   "source": [
    "brand = driver.find_elements(By.XPATH,'//div[@class = \"_2WkVRV\"]')\n",
    "\n",
    "Brand =[]\n",
    "\n",
    "while len(Brand)<=100:\n",
    "    Next_page = driver.find_elements(By.XPATH,\"//a[@class = '_1LKTO3']\")\n",
    "    for i in brand:\n",
    "        Brand.append(i.text)\n",
    "\n",
    "Brand = Brand[0:100]\n",
    "len(Brand)"
   ]
  },
  {
   "cell_type": "code",
   "execution_count": 22,
   "id": "41d64e00",
   "metadata": {},
   "outputs": [
    {
     "data": {
      "text/plain": [
       "100"
      ]
     },
     "execution_count": 22,
     "metadata": {},
     "output_type": "execute_result"
    }
   ],
   "source": [
    "product = driver.find_elements(By.XPATH,'//a[@class = \"IRpwTa\"]')\n",
    "\n",
    "Product =[]\n",
    "\n",
    "while len(Product)<=100:\n",
    "    Next_page = driver.find_elements(By.XPATH,\"//a[@class = '_1LKTO3']\")\n",
    "    for i in product:\n",
    "        Product.append(i.text)\n",
    "\n",
    "Product = Product[0:100]\n",
    "len(Product)"
   ]
  },
  {
   "cell_type": "code",
   "execution_count": 23,
   "id": "0634d30b",
   "metadata": {},
   "outputs": [
    {
     "data": {
      "text/plain": [
       "100"
      ]
     },
     "execution_count": 23,
     "metadata": {},
     "output_type": "execute_result"
    }
   ],
   "source": [
    "price = driver.find_elements(By.XPATH,'//div[@class = \"_30jeq3\"]')\n",
    "\n",
    "Price =[]\n",
    "\n",
    "while len(Price)<=100:\n",
    "    Next_page = driver.find_elements(By.XPATH,\"//a[@class = '_1LKTO3']\")\n",
    "    for i in price:\n",
    "        Price.append(i.text)\n",
    "\n",
    "Price = Price[0:100]\n",
    "len(Price)"
   ]
  },
  {
   "cell_type": "code",
   "execution_count": 24,
   "id": "a1e8bb43",
   "metadata": {},
   "outputs": [
    {
     "data": {
      "text/html": [
       "<div>\n",
       "<style scoped>\n",
       "    .dataframe tbody tr th:only-of-type {\n",
       "        vertical-align: middle;\n",
       "    }\n",
       "\n",
       "    .dataframe tbody tr th {\n",
       "        vertical-align: top;\n",
       "    }\n",
       "\n",
       "    .dataframe thead th {\n",
       "        text-align: right;\n",
       "    }\n",
       "</style>\n",
       "<table border=\"1\" class=\"dataframe\">\n",
       "  <thead>\n",
       "    <tr style=\"text-align: right;\">\n",
       "      <th></th>\n",
       "      <th>Brands</th>\n",
       "      <th>Product Description</th>\n",
       "      <th>Price</th>\n",
       "    </tr>\n",
       "  </thead>\n",
       "  <tbody>\n",
       "    <tr>\n",
       "      <th>0</th>\n",
       "      <td>KWIK FIT</td>\n",
       "      <td>Stylish and Trendy New Design Lightweight, Bre...</td>\n",
       "      <td>₹499</td>\n",
       "    </tr>\n",
       "    <tr>\n",
       "      <th>1</th>\n",
       "      <td>BIRDE</td>\n",
       "      <td>Modern Trendy Sneakers Shoes Sneakers For Men</td>\n",
       "      <td>₹378</td>\n",
       "    </tr>\n",
       "    <tr>\n",
       "      <th>2</th>\n",
       "      <td>BRUTON</td>\n",
       "      <td>Sneakers For Men</td>\n",
       "      <td>₹269</td>\n",
       "    </tr>\n",
       "    <tr>\n",
       "      <th>3</th>\n",
       "      <td>URBANBOX</td>\n",
       "      <td>Puma Smash v2 L Sneakers For Men</td>\n",
       "      <td>₹198</td>\n",
       "    </tr>\n",
       "    <tr>\n",
       "      <th>4</th>\n",
       "      <td>Magnolia</td>\n",
       "      <td>Stylish Comfortable Lightweight, Breathable Wa...</td>\n",
       "      <td>₹399</td>\n",
       "    </tr>\n",
       "    <tr>\n",
       "      <th>...</th>\n",
       "      <td>...</td>\n",
       "      <td>...</td>\n",
       "      <td>...</td>\n",
       "    </tr>\n",
       "    <tr>\n",
       "      <th>95</th>\n",
       "      <td>LE GREEM</td>\n",
       "      <td>STYLISH MENS BLACK SNEAKER Sneakers For Men</td>\n",
       "      <td>₹499</td>\n",
       "    </tr>\n",
       "    <tr>\n",
       "      <th>96</th>\n",
       "      <td>PUMA</td>\n",
       "      <td>Stylish and Trendy New Design Lightweight, Bre...</td>\n",
       "      <td>₹1,819</td>\n",
       "    </tr>\n",
       "    <tr>\n",
       "      <th>97</th>\n",
       "      <td>ONECENTRE</td>\n",
       "      <td>Modern Trendy Sneakers Shoes Sneakers For Men</td>\n",
       "      <td>₹299</td>\n",
       "    </tr>\n",
       "    <tr>\n",
       "      <th>98</th>\n",
       "      <td>CLYMB</td>\n",
       "      <td>Sneakers For Men</td>\n",
       "      <td>₹519</td>\n",
       "    </tr>\n",
       "    <tr>\n",
       "      <th>99</th>\n",
       "      <td>STRANGER BROTHERS</td>\n",
       "      <td>Puma Smash v2 L Sneakers For Men</td>\n",
       "      <td>₹599</td>\n",
       "    </tr>\n",
       "  </tbody>\n",
       "</table>\n",
       "<p>100 rows × 3 columns</p>\n",
       "</div>"
      ],
      "text/plain": [
       "               Brands                                Product Description  \\\n",
       "0            KWIK FIT  Stylish and Trendy New Design Lightweight, Bre...   \n",
       "1               BIRDE      Modern Trendy Sneakers Shoes Sneakers For Men   \n",
       "2              BRUTON                                   Sneakers For Men   \n",
       "3            URBANBOX                   Puma Smash v2 L Sneakers For Men   \n",
       "4            Magnolia  Stylish Comfortable Lightweight, Breathable Wa...   \n",
       "..                ...                                                ...   \n",
       "95           LE GREEM        STYLISH MENS BLACK SNEAKER Sneakers For Men   \n",
       "96               PUMA  Stylish and Trendy New Design Lightweight, Bre...   \n",
       "97          ONECENTRE      Modern Trendy Sneakers Shoes Sneakers For Men   \n",
       "98              CLYMB                                   Sneakers For Men   \n",
       "99  STRANGER BROTHERS                   Puma Smash v2 L Sneakers For Men   \n",
       "\n",
       "     Price  \n",
       "0     ₹499  \n",
       "1     ₹378  \n",
       "2     ₹269  \n",
       "3     ₹198  \n",
       "4     ₹399  \n",
       "..     ...  \n",
       "95    ₹499  \n",
       "96  ₹1,819  \n",
       "97    ₹299  \n",
       "98    ₹519  \n",
       "99    ₹599  \n",
       "\n",
       "[100 rows x 3 columns]"
      ]
     },
     "execution_count": 24,
     "metadata": {},
     "output_type": "execute_result"
    }
   ],
   "source": [
    "Data_6=pd.DataFrame()\n",
    "Data_6['Brands']=Brand\n",
    "Data_6['Product Description']=Product\n",
    "Data_6['Price']=Price\n",
    "Data_6"
   ]
  },
  {
   "cell_type": "markdown",
   "id": "3aed796a",
   "metadata": {},
   "source": [
    "Q8: Go to webpage https://www.amazon.in/\n",
    "Enter “Laptop” in the search field and then click the search icon.Then set CPU Type filter to “Intel Core i7” as shown in the below image:\n",
    "\n",
    "After setting the filters scrape first 10 laptops data. You have to scrape 3 attributesfor each laptop:\n",
    "1. Title\n",
    "2. Ratings\n",
    "3. Price\n"
   ]
  },
  {
   "cell_type": "code",
   "execution_count": 8,
   "id": "3e15f564",
   "metadata": {},
   "outputs": [],
   "source": [
    "from bs4 import BeautifulSoup"
   ]
  },
  {
   "cell_type": "code",
   "execution_count": 14,
   "id": "a8b478ff",
   "metadata": {},
   "outputs": [],
   "source": [
    "driver = webdriver.Chrome(r\"chromedriver.exe\")\n",
    "driver.get(\"https://www.amazon.in/\")\n",
    "driver.maximize_window()\n",
    "\n",
    "search_Box = driver.find_element(By.XPATH,\"//div[@class = 'nav-search-field ']/input[@type='text']\")\n",
    "search_Box.send_keys(\"Laptop\")\n",
    "search_btn = driver.find_element(By.XPATH,\"//input[@id= 'nav-search-submit-button']\")\n",
    "search_btn.click()\n",
    "\n",
    "fltr_btn = driver.find_elements(By.XPATH,\"//ul[@aria-labelledby= 'p_n_feature_thirteen_browse-bin-title']//div[@class= 'a-checkbox a-checkbox-fancy s-navigation-checkbox aok-float-left']\")\n",
    "fltr_btn[3].click()"
   ]
  },
  {
   "cell_type": "code",
   "execution_count": 15,
   "id": "0391ed38",
   "metadata": {},
   "outputs": [],
   "source": [
    "def extract_record(item):\n",
    "    \"\"\"Extract and return the Data from a Single record\"\"\"\n",
    "    \n",
    "    #Description\n",
    "    atag = item.h2.a\n",
    "    description = atag.text.strip()\n",
    "    \n",
    "    try:\n",
    "        #Price\n",
    "        price_parent = item.find('span', 'a-price')\n",
    "        price = price_parent.find('span', 'a-offscreen').text\n",
    "    except AttributeError: #Attribute error handeling\n",
    "        price = ''\n",
    "    \n",
    "    try:\n",
    "        #Rating\n",
    "        rating = item.i.text\n",
    "    except AttributeError: #Attribute error handeling\n",
    "        rating = ''\n",
    "        \n",
    "        \n",
    "    result = (description, price, rating)\n",
    "    \n",
    "    return result"
   ]
  },
  {
   "cell_type": "code",
   "execution_count": 16,
   "id": "ef86f86a",
   "metadata": {},
   "outputs": [
    {
     "data": {
      "text/html": [
       "<div>\n",
       "<style scoped>\n",
       "    .dataframe tbody tr th:only-of-type {\n",
       "        vertical-align: middle;\n",
       "    }\n",
       "\n",
       "    .dataframe tbody tr th {\n",
       "        vertical-align: top;\n",
       "    }\n",
       "\n",
       "    .dataframe thead th {\n",
       "        text-align: right;\n",
       "    }\n",
       "</style>\n",
       "<table border=\"1\" class=\"dataframe\">\n",
       "  <thead>\n",
       "    <tr style=\"text-align: right;\">\n",
       "      <th></th>\n",
       "      <th>Title</th>\n",
       "      <th>Ratings</th>\n",
       "      <th>Price</th>\n",
       "    </tr>\n",
       "  </thead>\n",
       "  <tbody>\n",
       "    <tr>\n",
       "      <th>0</th>\n",
       "      <td>Dell New Inspiron 3525 Laptop, AMD Athlon Silv...</td>\n",
       "      <td>4.0 out of 5 stars</td>\n",
       "      <td>₹29,490</td>\n",
       "    </tr>\n",
       "    <tr>\n",
       "      <th>1</th>\n",
       "      <td>HP 247 G8 Laptop (Athlon P-3045B HD/ 14 inch(3...</td>\n",
       "      <td>3.6 out of 5 stars</td>\n",
       "      <td>₹28,849</td>\n",
       "    </tr>\n",
       "    <tr>\n",
       "      <th>2</th>\n",
       "      <td>Lenovo E41-55 AMD 14-inch (35.56cm) HD Thin an...</td>\n",
       "      <td></td>\n",
       "      <td>₹24,999</td>\n",
       "    </tr>\n",
       "    <tr>\n",
       "      <th>3</th>\n",
       "      <td>Lenovo E41-55 AMD 14-inch (35.56cm) HD Thin an...</td>\n",
       "      <td>3.4 out of 5 stars</td>\n",
       "      <td>₹24,999</td>\n",
       "    </tr>\n",
       "    <tr>\n",
       "      <th>4</th>\n",
       "      <td>Acer Extensa 15 AMD 3020e Dual-core Processor ...</td>\n",
       "      <td>3.5 out of 5 stars</td>\n",
       "      <td>₹28,910</td>\n",
       "    </tr>\n",
       "    <tr>\n",
       "      <th>5</th>\n",
       "      <td>Acer Aspire 3 AMD Athlon Silver 3050U Dual-cor...</td>\n",
       "      <td>3.7 out of 5 stars</td>\n",
       "      <td>₹29,719</td>\n",
       "    </tr>\n",
       "    <tr>\n",
       "      <th>6</th>\n",
       "      <td>Lenovo V15 15.6\" FHD Laptop (4GB RAM/Iron Grey...</td>\n",
       "      <td>3.2 out of 5 stars</td>\n",
       "      <td>₹28,599</td>\n",
       "    </tr>\n",
       "    <tr>\n",
       "      <th>7</th>\n",
       "      <td>Lenovo 82C700D4IH V15 ADA AMD Athlon Silver 30...</td>\n",
       "      <td>3.3 out of 5 stars</td>\n",
       "      <td>₹29,000</td>\n",
       "    </tr>\n",
       "    <tr>\n",
       "      <th>8</th>\n",
       "      <td>Lenovo V15 AMD 39.62 cm (15.6-inch) FHD Thin a...</td>\n",
       "      <td>3.5 out of 5 stars</td>\n",
       "      <td></td>\n",
       "    </tr>\n",
       "    <tr>\n",
       "      <th>9</th>\n",
       "      <td>Lenovo V15 AMD 15.6-inch FHD Thin and Light La...</td>\n",
       "      <td>3.7 out of 5 stars</td>\n",
       "      <td>₹31,000</td>\n",
       "    </tr>\n",
       "  </tbody>\n",
       "</table>\n",
       "</div>"
      ],
      "text/plain": [
       "                                               Title             Ratings  \\\n",
       "0  Dell New Inspiron 3525 Laptop, AMD Athlon Silv...  4.0 out of 5 stars   \n",
       "1  HP 247 G8 Laptop (Athlon P-3045B HD/ 14 inch(3...  3.6 out of 5 stars   \n",
       "2  Lenovo E41-55 AMD 14-inch (35.56cm) HD Thin an...                       \n",
       "3  Lenovo E41-55 AMD 14-inch (35.56cm) HD Thin an...  3.4 out of 5 stars   \n",
       "4  Acer Extensa 15 AMD 3020e Dual-core Processor ...  3.5 out of 5 stars   \n",
       "5  Acer Aspire 3 AMD Athlon Silver 3050U Dual-cor...  3.7 out of 5 stars   \n",
       "6  Lenovo V15 15.6\" FHD Laptop (4GB RAM/Iron Grey...  3.2 out of 5 stars   \n",
       "7  Lenovo 82C700D4IH V15 ADA AMD Athlon Silver 30...  3.3 out of 5 stars   \n",
       "8  Lenovo V15 AMD 39.62 cm (15.6-inch) FHD Thin a...  3.5 out of 5 stars   \n",
       "9  Lenovo V15 AMD 15.6-inch FHD Thin and Light La...  3.7 out of 5 stars   \n",
       "\n",
       "     Price  \n",
       "0  ₹29,490  \n",
       "1  ₹28,849  \n",
       "2  ₹24,999  \n",
       "3  ₹24,999  \n",
       "4  ₹28,910  \n",
       "5  ₹29,719  \n",
       "6  ₹28,599  \n",
       "7  ₹29,000  \n",
       "8           \n",
       "9  ₹31,000  "
      ]
     },
     "execution_count": 16,
     "metadata": {},
     "output_type": "execute_result"
    }
   ],
   "source": [
    "records = []\n",
    "soup = BeautifulSoup(driver.page_source, 'html.parser')\n",
    "results = soup.find_all('div',{'data-component-type' : 's-search-result'})\n",
    "\n",
    "for item in results:\n",
    "    record = extract_record(item)\n",
    "    if record:\n",
    "        records.append(record)\n",
    "        \n",
    "records = records[:10]\n",
    "\n",
    "driver.close()\n",
    "\n",
    "title =[]\n",
    "Ratings =[]\n",
    "Price =[]\n",
    "\n",
    "for i in records:\n",
    "    title.append(i[0])\n",
    "    Ratings.append(i[2])\n",
    "    Price.append(i[1])\n",
    "    \n",
    "intel_core_i7_amazon = pd.DataFrame({\"Title\":title,\"Ratings\":Ratings,\"Price\":Price})\n",
    "intel_core_i7_amazon            "
   ]
  },
  {
   "cell_type": "markdown",
   "id": "1d9e6f71",
   "metadata": {},
   "source": [
    "Q9: Write a python program to scrape data for first 10 job results for Data Scientist Designation in Noida location. You have to scrape company name, No. of days ago when job was posted, Rating of the company. \n",
    "\n",
    "This task will be done in following steps:\n",
    "1. First get the webpage https://www.ambitionbox.com/\n",
    "2. Click on the Job option as shown in the image\n",
    "3. After reaching to the next webpage, In place of “Search by Designations, Companies, Skills” enter“Data Scientist” and click on search button.\n",
    "4. You will reach to the following web page click on location and in place of “Search location” enter “Noida” and select location “Noida”.\n",
    "5. Then scrape the data for the first 10 jobs results you get on the above shown page.\n",
    "6. Finally create a dataframe of the scraped data.\n",
    "\n"
   ]
  },
  {
   "cell_type": "code",
   "execution_count": 9,
   "id": "4eaf5b57",
   "metadata": {},
   "outputs": [],
   "source": [
    "driver = webdriver.Chrome(r\"chromedriver.exe\")\n",
    "driver.get(' https://www.ambitionbox.com/')"
   ]
  },
  {
   "cell_type": "code",
   "execution_count": 10,
   "id": "fe16b5b2",
   "metadata": {},
   "outputs": [],
   "source": [
    "jobs=driver.find_element(By.XPATH,\"/html/body/div[1]/nav/nav/a[6]\")\n",
    "jobs.click()"
   ]
  },
  {
   "cell_type": "code",
   "execution_count": 11,
   "id": "304feeef",
   "metadata": {},
   "outputs": [],
   "source": [
    "Search_job = driver.find_element(By.XPATH,\"/html/body/div/div/div/div[2]/div[1]/div[1]/div/div/div/div/span/input\")\n",
    "Search_job.send_keys('Data Scientist')"
   ]
  },
  {
   "cell_type": "code",
   "execution_count": 12,
   "id": "a4702672",
   "metadata": {},
   "outputs": [],
   "source": [
    "Search = driver.find_element(By.XPATH,\"/html/body/div/div/div/div[2]/div[1]/div[1]/div/div/div/button\")\n",
    "Search.click()"
   ]
  },
  {
   "cell_type": "code",
   "execution_count": 13,
   "id": "d7c8f0e3",
   "metadata": {},
   "outputs": [],
   "source": [
    "loc = driver.find_element(By.XPATH,\"/html/body/div/div/div/div[2]/div[1]/div[2]/div[1]/div/div/div/div[2]/div[1]/p\")\n",
    "loc.click()"
   ]
  },
  {
   "cell_type": "code",
   "execution_count": 14,
   "id": "22b79201",
   "metadata": {},
   "outputs": [],
   "source": [
    "Search_loc = driver.find_element(By.XPATH,\"/html/body/div/div/div/div[2]/div[1]/div[2]/div[1]/div/div/div/div[2]/div[2]/div/div[2]/input\")\n",
    "Search_loc.send_keys('Noida')"
   ]
  },
  {
   "cell_type": "code",
   "execution_count": 15,
   "id": "16cc9dcb",
   "metadata": {},
   "outputs": [],
   "source": [
    "Search_city = driver.find_element(By.XPATH,\"/html/body/div/div/div/div[2]/div[1]/div[2]/div[1]/div/div/div/div[2]/div[2]/div/div[3]/div[1]/div[1]/div/label\")\n",
    "Search_city.click()"
   ]
  },
  {
   "cell_type": "code",
   "execution_count": 16,
   "id": "8784edaa",
   "metadata": {},
   "outputs": [
    {
     "data": {
      "text/plain": [
       "['Senior Data Scientist',\n",
       " 'Data Scientist- Forecasting and R or Python',\n",
       " 'Data Scientist',\n",
       " 'Data Scientist - Machine Learning/Big Data (0-4 yrs)',\n",
       " 'Data Scientist - Machine Learning Algorithms (3-8 yrs)',\n",
       " 'Info Edge - Data Scientist - Machine Learning/NLP (0-2 yrs)',\n",
       " 'Info Edge - Senior Data Scientist - Machine Learning/Deep Learning (3-5 yrs)',\n",
       " 'LatentBridge - Data Scientist - Python/R (2-6 yrs)',\n",
       " 'Data Science Trainer | AI | Machine Learning | Python |',\n",
       " 'Principal Scientist - Machine Learning - IT (15-26 yrs)']"
      ]
     },
     "execution_count": 16,
     "metadata": {},
     "output_type": "execute_result"
    }
   ],
   "source": [
    "jobs_10 = driver.find_elements(By.XPATH,\"//a[@class = 'title noclick']\")\n",
    "\n",
    "Jobs_10 =[]\n",
    "for i in jobs_10:\n",
    "    Jobs_10.append(i.text)\n",
    "    \n",
    "Jobs_10 = Jobs_10[:10]\n",
    "Jobs_10"
   ]
  },
  {
   "cell_type": "code",
   "execution_count": 17,
   "id": "cef35ae5",
   "metadata": {},
   "outputs": [
    {
     "data": {
      "text/plain": [
       "['Optum Global Solutions (India) Private Limited',\n",
       " 'GENPACT India Private Limited',\n",
       " 'GENPACT India Private Limited',\n",
       " 'InfoEdge India Ltd.',\n",
       " 'Dew Solutions Pvt. Ltd.',\n",
       " 'Info Edge India Limited',\n",
       " 'Info Edge India Limited',\n",
       " 'Latent bridge',\n",
       " 'Careerera',\n",
       " 'Careernet Consulting']"
      ]
     },
     "execution_count": 17,
     "metadata": {},
     "output_type": "execute_result"
    }
   ],
   "source": [
    "company_name = driver.find_elements(By.XPATH,\"//p[@class='company body-medium']\")\n",
    "\n",
    "companies=[]\n",
    "\n",
    "for i in company_name[0:10]:\n",
    "\n",
    "    companies.append(i.text)\n",
    "companies"
   ]
  },
  {
   "cell_type": "code",
   "execution_count": 47,
   "id": "925df89f",
   "metadata": {
    "collapsed": true
   },
   "outputs": [
    {
     "data": {
      "text/plain": [
       "['6d ago',\n",
       " '13d ago',\n",
       " '1mon ago',\n",
       " '7d ago',\n",
       " '12d ago',\n",
       " '1mon ago',\n",
       " '1mon ago',\n",
       " '11mon ago',\n",
       " '21d ago',\n",
       " '11mon ago']"
      ]
     },
     "execution_count": 47,
     "metadata": {},
     "output_type": "execute_result"
    }
   ],
   "source": [
    "day_post = driver.find_elements(By.XPATH,'//span[@class = \"body-small-l\"]')\n",
    "\n",
    "Day_post =[]\n",
    "for i in day_post:\n",
    "    Day_post.append(i.text)\n",
    "\n",
    "Day_post = Day_post[0:20:2]\n",
    "Day_post"
   ]
  },
  {
   "cell_type": "code",
   "execution_count": 45,
   "id": "25b5443d",
   "metadata": {},
   "outputs": [
    {
     "data": {
      "text/plain": [
       "['4.1', '4.0', '4.0', '4.1', '3.8', '3.7', '3.7', '4.1', '4.6', '4.2']"
      ]
     },
     "execution_count": 45,
     "metadata": {},
     "output_type": "execute_result"
    }
   ],
   "source": [
    "rating = driver.find_elements(By.XPATH,'//span[@class = \"body-small\"]')\n",
    "\n",
    "Rating =[]\n",
    "for i in rating:\n",
    "    Rating.append(i.text)\n",
    "\n",
    "Rating = Rating[0:10]\n",
    "Rating"
   ]
  },
  {
   "cell_type": "code",
   "execution_count": 51,
   "id": "c070c1cc",
   "metadata": {},
   "outputs": [
    {
     "data": {
      "text/html": [
       "<div>\n",
       "<style scoped>\n",
       "    .dataframe tbody tr th:only-of-type {\n",
       "        vertical-align: middle;\n",
       "    }\n",
       "\n",
       "    .dataframe tbody tr th {\n",
       "        vertical-align: top;\n",
       "    }\n",
       "\n",
       "    .dataframe thead th {\n",
       "        text-align: right;\n",
       "    }\n",
       "</style>\n",
       "<table border=\"1\" class=\"dataframe\">\n",
       "  <thead>\n",
       "    <tr style=\"text-align: right;\">\n",
       "      <th></th>\n",
       "      <th>Jods</th>\n",
       "      <th>Companies Name</th>\n",
       "      <th>Day of Post</th>\n",
       "      <th>Rating</th>\n",
       "    </tr>\n",
       "  </thead>\n",
       "  <tbody>\n",
       "    <tr>\n",
       "      <th>0</th>\n",
       "      <td>Senior Data Scientist</td>\n",
       "      <td>Optum Global Solutions (India) Private Limited</td>\n",
       "      <td>6d ago</td>\n",
       "      <td>4.1</td>\n",
       "    </tr>\n",
       "    <tr>\n",
       "      <th>1</th>\n",
       "      <td>Data Scientist- Forecasting and R or Python</td>\n",
       "      <td>GENPACT India Private Limited</td>\n",
       "      <td>13d ago</td>\n",
       "      <td>4.0</td>\n",
       "    </tr>\n",
       "    <tr>\n",
       "      <th>2</th>\n",
       "      <td>Data Scientist</td>\n",
       "      <td>GENPACT India Private Limited</td>\n",
       "      <td>1mon ago</td>\n",
       "      <td>4.0</td>\n",
       "    </tr>\n",
       "    <tr>\n",
       "      <th>3</th>\n",
       "      <td>Data Scientist - NLP</td>\n",
       "      <td>CRMnext</td>\n",
       "      <td>7d ago</td>\n",
       "      <td>4.1</td>\n",
       "    </tr>\n",
       "    <tr>\n",
       "      <th>4</th>\n",
       "      <td>Data Scientist - NLP</td>\n",
       "      <td>Acidaes Solutions Pvt. Ltd.</td>\n",
       "      <td>12d ago</td>\n",
       "      <td>3.8</td>\n",
       "    </tr>\n",
       "    <tr>\n",
       "      <th>5</th>\n",
       "      <td>Data Science - Lead Data Scientist</td>\n",
       "      <td>Paytm</td>\n",
       "      <td>1mon ago</td>\n",
       "      <td>3.7</td>\n",
       "    </tr>\n",
       "    <tr>\n",
       "      <th>6</th>\n",
       "      <td>Data Scientist - Associate Vice President</td>\n",
       "      <td>Paytm</td>\n",
       "      <td>1mon ago</td>\n",
       "      <td>3.7</td>\n",
       "    </tr>\n",
       "    <tr>\n",
       "      <th>7</th>\n",
       "      <td>Senior Data Scientist - Artificial Intelligenc...</td>\n",
       "      <td>Randstad</td>\n",
       "      <td>11mon ago</td>\n",
       "      <td>4.1</td>\n",
       "    </tr>\n",
       "    <tr>\n",
       "      <th>8</th>\n",
       "      <td>Data Science Trainer | AI | Machine Learning |...</td>\n",
       "      <td>Careerera</td>\n",
       "      <td>21d ago</td>\n",
       "      <td>4.6</td>\n",
       "    </tr>\n",
       "    <tr>\n",
       "      <th>9</th>\n",
       "      <td>Data Scientist - Python/SQL/Redshift (4-7 yrs)</td>\n",
       "      <td>Telus International</td>\n",
       "      <td>11mon ago</td>\n",
       "      <td>4.2</td>\n",
       "    </tr>\n",
       "  </tbody>\n",
       "</table>\n",
       "</div>"
      ],
      "text/plain": [
       "                                                Jods  \\\n",
       "0                              Senior Data Scientist   \n",
       "1        Data Scientist- Forecasting and R or Python   \n",
       "2                                     Data Scientist   \n",
       "3                               Data Scientist - NLP   \n",
       "4                               Data Scientist - NLP   \n",
       "5                 Data Science - Lead Data Scientist   \n",
       "6          Data Scientist - Associate Vice President   \n",
       "7  Senior Data Scientist - Artificial Intelligenc...   \n",
       "8  Data Science Trainer | AI | Machine Learning |...   \n",
       "9     Data Scientist - Python/SQL/Redshift (4-7 yrs)   \n",
       "\n",
       "                                   Companies Name Day of Post Rating  \n",
       "0  Optum Global Solutions (India) Private Limited      6d ago    4.1  \n",
       "1                   GENPACT India Private Limited     13d ago    4.0  \n",
       "2                   GENPACT India Private Limited    1mon ago    4.0  \n",
       "3                                         CRMnext      7d ago    4.1  \n",
       "4                     Acidaes Solutions Pvt. Ltd.     12d ago    3.8  \n",
       "5                                           Paytm    1mon ago    3.7  \n",
       "6                                           Paytm    1mon ago    3.7  \n",
       "7                                        Randstad   11mon ago    4.1  \n",
       "8                                       Careerera     21d ago    4.6  \n",
       "9                             Telus International   11mon ago    4.2  "
      ]
     },
     "execution_count": 51,
     "metadata": {},
     "output_type": "execute_result"
    }
   ],
   "source": [
    "Data_9 = pd.DataFrame()\n",
    "Data_9['Jods'] = Jobs_10\n",
    "Data_9['Companies Name'] = companies\n",
    "Data_9['Day of Post'] = Day_post\n",
    "Data_9['Rating'] = Rating\n",
    "Data_9"
   ]
  },
  {
   "cell_type": "markdown",
   "id": "5368882f",
   "metadata": {},
   "source": [
    "Q10: Write a python program to scrape the salary data for Data Scientist designation.You have to scrape Company name, Number of salaries, Average salary, Minsalary, Max Salary. \n",
    "\n",
    "The above task will be, done as shown in the below steps:\n",
    "1. First get the webpage https://www.ambitionbox.com/\n",
    "2. Click on the salaries option as shown in the image\n",
    "3. After reaching to the following webpage, In place of “Search Job Profile” enters “Data Scientist” and then click on “Data Scientist”.\n",
    "\n",
    "You have to scrape the data ticked in the above image.\n",
    "\n",
    "4. Scrape the data for the first 10 companies. Scrape the company name, total salary record, average salary, minimum salary, maximum salary, experience required.\n",
    "5. Store the data in a dataframe.\n"
   ]
  },
  {
   "cell_type": "code",
   "execution_count": 43,
   "id": "b915edef",
   "metadata": {},
   "outputs": [],
   "source": [
    "driver = webdriver.Chrome(r\"chromedriver.exe\")\n",
    "driver.get(' https://www.ambitionbox.com/')"
   ]
  },
  {
   "cell_type": "code",
   "execution_count": 44,
   "id": "3e934baa",
   "metadata": {},
   "outputs": [],
   "source": [
    "Salaries=driver.find_element(By.XPATH,\"/html/body/div[1]/nav/nav/a[4]\")\n",
    "Salaries.click()"
   ]
  },
  {
   "cell_type": "code",
   "execution_count": 50,
   "id": "ad6fed7c",
   "metadata": {},
   "outputs": [],
   "source": [
    "Search_job = driver.find_element(By.XPATH,\"/html/body/div/div/div/main/section[1]/div[2]/div[1]/span/input\")\n",
    "Search_job.send_keys('Data Scientist')\n",
    "Search = driver.find_element(By.XPATH,\"/html/body/div/div/div/main/section[1]/div[2]/div[1]/span/div/div/div[1]/div/div\")\n",
    "Search.click()"
   ]
  },
  {
   "cell_type": "code",
   "execution_count": 52,
   "id": "0d78a8d8",
   "metadata": {},
   "outputs": [
    {
     "data": {
      "text/plain": [
       "['Walmart',\n",
       " 'Ab Inbev',\n",
       " 'ZS',\n",
       " 'Optum',\n",
       " 'Reliance Jio',\n",
       " 'Fractal Analytics',\n",
       " 'Tiger Analytics',\n",
       " 'UnitedHealth',\n",
       " 'EXL Service',\n",
       " 'Deloitte']"
      ]
     },
     "execution_count": 52,
     "metadata": {},
     "output_type": "execute_result"
    }
   ],
   "source": [
    "company_name = driver.find_elements(By.XPATH,\"//div[@class='company-info']\")\n",
    "\n",
    "Companies=[]\n",
    "\n",
    "for i in company_name[0:10]:\n",
    "\n",
    "    Companies.append(i.text.split(\"\\n\")[0])\n",
    "Companies"
   ]
  },
  {
   "cell_type": "code",
   "execution_count": 66,
   "id": "95a2b0c2",
   "metadata": {},
   "outputs": [
    {
     "data": {
      "text/plain": [
       "['₹ 25.0L',\n",
       " '₹ 36.0L',\n",
       " '₹ 15.0L',\n",
       " '₹ 26.2L',\n",
       " '₹ 11.0L',\n",
       " '₹ 22.0L',\n",
       " '₹ 11.0L',\n",
       " '₹ 22.5L',\n",
       " '₹ 5.6L',\n",
       " '₹ 26.2L']"
      ]
     },
     "execution_count": 66,
     "metadata": {},
     "output_type": "execute_result"
    }
   ],
   "source": [
    "total_sal = driver.find_elements(By.XPATH,'//div[@class=\"value body-medium\"]')\n",
    "\n",
    "Total_sal=[]\n",
    "\n",
    "\n",
    "\n",
    "for i in total_sal[:10]:\n",
    "\n",
    "    Total_sal.append(i.text)\n",
    "\n",
    "Total_sal"
   ]
  },
  {
   "cell_type": "code",
   "execution_count": 54,
   "id": "fe239f7c",
   "metadata": {},
   "outputs": [
    {
     "data": {
      "text/plain": [
       "['₹ 30.6L',\n",
       " '₹ 20.8L',\n",
       " '₹ 16.7L',\n",
       " '₹ 15.9L',\n",
       " '₹ 15.7L',\n",
       " '₹ 15.5L',\n",
       " '₹ 14.8L',\n",
       " '₹ 14.0L',\n",
       " '₹ 13.2L',\n",
       " '₹ 12.8L']"
      ]
     },
     "execution_count": 54,
     "metadata": {},
     "output_type": "execute_result"
    }
   ],
   "source": [
    "Average_sal =driver.find_elements(By.XPATH,'//p[@class=\"averageCtc\"]')\n",
    "\n",
    "Average =[]\n",
    "\n",
    "\n",
    "for i in Average_sal:\n",
    "    Average.append(i.text)\n",
    "\n",
    "Average = Average[0:10]\n",
    "Average"
   ]
  },
  {
   "cell_type": "code",
   "execution_count": 60,
   "id": "48bf78ae",
   "metadata": {},
   "outputs": [
    {
     "data": {
      "text/plain": [
       "['₹ 25.0L',\n",
       " '₹ 15.0L',\n",
       " '₹ 11.0L',\n",
       " '₹ 11.0L',\n",
       " '₹ 5.6L',\n",
       " '₹ 10.0L',\n",
       " '₹ 9.0L',\n",
       " '₹ 8.3L',\n",
       " '₹ 7.6L',\n",
       " '₹ 7.0L']"
      ]
     },
     "execution_count": 60,
     "metadata": {},
     "output_type": "execute_result"
    }
   ],
   "source": [
    "min_sal =driver.find_elements(By.XPATH,\"//div[@class='salary-values']\")\n",
    "\n",
    "Min =[]\n",
    "\n",
    "\n",
    "for i in min_sal:\n",
    "    Min.append(i.text.split('\\n')[0])\n",
    "\n",
    "Min = Min[0:10]\n",
    "Min"
   ]
  },
  {
   "cell_type": "code",
   "execution_count": 61,
   "id": "2e9df85f",
   "metadata": {},
   "outputs": [
    {
     "data": {
      "text/plain": [
       "['₹ 36.0L',\n",
       " '₹ 26.2L',\n",
       " '₹ 22.0L',\n",
       " '₹ 22.5L',\n",
       " '₹ 26.2L',\n",
       " '₹ 23.0L',\n",
       " '₹ 20.0L',\n",
       " '₹ 21.1L',\n",
       " '₹ 21.0L',\n",
       " '₹ 25.0L']"
      ]
     },
     "execution_count": 61,
     "metadata": {},
     "output_type": "execute_result"
    }
   ],
   "source": [
    "max_sal =driver.find_elements(By.XPATH,\"//div[@class='salary-values']\")\n",
    "\n",
    "Max =[]\n",
    "\n",
    "for i in max_sal:\n",
    "    Max.append(i.text.split('\\n')[1])\n",
    "\n",
    "Max = Max[0:10]\n",
    "Max"
   ]
  },
  {
   "cell_type": "code",
   "execution_count": 63,
   "id": "0e767b8c",
   "metadata": {},
   "outputs": [
    {
     "data": {
      "text/plain": [
       "['3 yrs experience ',\n",
       " '3-4 yrs experience ',\n",
       " '2 yrs experience ',\n",
       " '3-4 yrs experience ',\n",
       " '3-4 yrs experience ',\n",
       " '2-4 yrs experience ',\n",
       " '2-4 yrs experience ',\n",
       " '2-4 yrs experience ',\n",
       " '3-4 yrs experience ',\n",
       " '2-4 yrs experience ']"
      ]
     },
     "execution_count": 63,
     "metadata": {},
     "output_type": "execute_result"
    }
   ],
   "source": [
    "experience_required = driver.find_elements(By.XPATH,'//div[@class = \"sbold-list-header\"]')\n",
    "\n",
    "Experience =[]\n",
    "for i in experience_required[:10]:\n",
    "    Experience.append(i.text.split(\"(\")[0])\n",
    "\n",
    "Experience"
   ]
  },
  {
   "cell_type": "code",
   "execution_count": 67,
   "id": "74836d60",
   "metadata": {},
   "outputs": [
    {
     "data": {
      "text/html": [
       "<div>\n",
       "<style scoped>\n",
       "    .dataframe tbody tr th:only-of-type {\n",
       "        vertical-align: middle;\n",
       "    }\n",
       "\n",
       "    .dataframe tbody tr th {\n",
       "        vertical-align: top;\n",
       "    }\n",
       "\n",
       "    .dataframe thead th {\n",
       "        text-align: right;\n",
       "    }\n",
       "</style>\n",
       "<table border=\"1\" class=\"dataframe\">\n",
       "  <thead>\n",
       "    <tr style=\"text-align: right;\">\n",
       "      <th></th>\n",
       "      <th>Companies</th>\n",
       "      <th>Totla Salary</th>\n",
       "      <th>Avrage</th>\n",
       "      <th>min</th>\n",
       "      <th>Max</th>\n",
       "      <th>Experience</th>\n",
       "    </tr>\n",
       "  </thead>\n",
       "  <tbody>\n",
       "    <tr>\n",
       "      <th>0</th>\n",
       "      <td>Walmart</td>\n",
       "      <td>₹ 25.0L</td>\n",
       "      <td>₹ 30.6L</td>\n",
       "      <td>₹ 25.0L</td>\n",
       "      <td>₹ 36.0L</td>\n",
       "      <td>3 yrs experience</td>\n",
       "    </tr>\n",
       "    <tr>\n",
       "      <th>1</th>\n",
       "      <td>Ab Inbev</td>\n",
       "      <td>₹ 36.0L</td>\n",
       "      <td>₹ 20.8L</td>\n",
       "      <td>₹ 15.0L</td>\n",
       "      <td>₹ 26.2L</td>\n",
       "      <td>3-4 yrs experience</td>\n",
       "    </tr>\n",
       "    <tr>\n",
       "      <th>2</th>\n",
       "      <td>ZS</td>\n",
       "      <td>₹ 15.0L</td>\n",
       "      <td>₹ 16.7L</td>\n",
       "      <td>₹ 11.0L</td>\n",
       "      <td>₹ 22.0L</td>\n",
       "      <td>2 yrs experience</td>\n",
       "    </tr>\n",
       "    <tr>\n",
       "      <th>3</th>\n",
       "      <td>Optum</td>\n",
       "      <td>₹ 26.2L</td>\n",
       "      <td>₹ 15.9L</td>\n",
       "      <td>₹ 11.0L</td>\n",
       "      <td>₹ 22.5L</td>\n",
       "      <td>3-4 yrs experience</td>\n",
       "    </tr>\n",
       "    <tr>\n",
       "      <th>4</th>\n",
       "      <td>Reliance Jio</td>\n",
       "      <td>₹ 11.0L</td>\n",
       "      <td>₹ 15.7L</td>\n",
       "      <td>₹ 5.6L</td>\n",
       "      <td>₹ 26.2L</td>\n",
       "      <td>3-4 yrs experience</td>\n",
       "    </tr>\n",
       "    <tr>\n",
       "      <th>5</th>\n",
       "      <td>Fractal Analytics</td>\n",
       "      <td>₹ 22.0L</td>\n",
       "      <td>₹ 15.5L</td>\n",
       "      <td>₹ 10.0L</td>\n",
       "      <td>₹ 23.0L</td>\n",
       "      <td>2-4 yrs experience</td>\n",
       "    </tr>\n",
       "    <tr>\n",
       "      <th>6</th>\n",
       "      <td>Tiger Analytics</td>\n",
       "      <td>₹ 11.0L</td>\n",
       "      <td>₹ 14.8L</td>\n",
       "      <td>₹ 9.0L</td>\n",
       "      <td>₹ 20.0L</td>\n",
       "      <td>2-4 yrs experience</td>\n",
       "    </tr>\n",
       "    <tr>\n",
       "      <th>7</th>\n",
       "      <td>UnitedHealth</td>\n",
       "      <td>₹ 22.5L</td>\n",
       "      <td>₹ 14.0L</td>\n",
       "      <td>₹ 8.3L</td>\n",
       "      <td>₹ 21.1L</td>\n",
       "      <td>2-4 yrs experience</td>\n",
       "    </tr>\n",
       "    <tr>\n",
       "      <th>8</th>\n",
       "      <td>EXL Service</td>\n",
       "      <td>₹ 5.6L</td>\n",
       "      <td>₹ 13.2L</td>\n",
       "      <td>₹ 7.6L</td>\n",
       "      <td>₹ 21.0L</td>\n",
       "      <td>3-4 yrs experience</td>\n",
       "    </tr>\n",
       "    <tr>\n",
       "      <th>9</th>\n",
       "      <td>Deloitte</td>\n",
       "      <td>₹ 26.2L</td>\n",
       "      <td>₹ 12.8L</td>\n",
       "      <td>₹ 7.0L</td>\n",
       "      <td>₹ 25.0L</td>\n",
       "      <td>2-4 yrs experience</td>\n",
       "    </tr>\n",
       "  </tbody>\n",
       "</table>\n",
       "</div>"
      ],
      "text/plain": [
       "           Companies Totla Salary   Avrage      min      Max  \\\n",
       "0            Walmart      ₹ 25.0L  ₹ 30.6L  ₹ 25.0L  ₹ 36.0L   \n",
       "1           Ab Inbev      ₹ 36.0L  ₹ 20.8L  ₹ 15.0L  ₹ 26.2L   \n",
       "2                 ZS      ₹ 15.0L  ₹ 16.7L  ₹ 11.0L  ₹ 22.0L   \n",
       "3              Optum      ₹ 26.2L  ₹ 15.9L  ₹ 11.0L  ₹ 22.5L   \n",
       "4       Reliance Jio      ₹ 11.0L  ₹ 15.7L   ₹ 5.6L  ₹ 26.2L   \n",
       "5  Fractal Analytics      ₹ 22.0L  ₹ 15.5L  ₹ 10.0L  ₹ 23.0L   \n",
       "6    Tiger Analytics      ₹ 11.0L  ₹ 14.8L   ₹ 9.0L  ₹ 20.0L   \n",
       "7       UnitedHealth      ₹ 22.5L  ₹ 14.0L   ₹ 8.3L  ₹ 21.1L   \n",
       "8        EXL Service       ₹ 5.6L  ₹ 13.2L   ₹ 7.6L  ₹ 21.0L   \n",
       "9           Deloitte      ₹ 26.2L  ₹ 12.8L   ₹ 7.0L  ₹ 25.0L   \n",
       "\n",
       "            Experience  \n",
       "0    3 yrs experience   \n",
       "1  3-4 yrs experience   \n",
       "2    2 yrs experience   \n",
       "3  3-4 yrs experience   \n",
       "4  3-4 yrs experience   \n",
       "5  2-4 yrs experience   \n",
       "6  2-4 yrs experience   \n",
       "7  2-4 yrs experience   \n",
       "8  3-4 yrs experience   \n",
       "9  2-4 yrs experience   "
      ]
     },
     "execution_count": 67,
     "metadata": {},
     "output_type": "execute_result"
    }
   ],
   "source": [
    "Data_10 = pd.DataFrame()\n",
    "Data_10['Companies'] = Companies\n",
    "Data_10['Totla Salary'] = Total_sal\n",
    "Data_10['Avrage'] = Average\n",
    "Data_10['min'] = Min\n",
    "Data_10['Max'] = Max\n",
    "Data_10['Experience'] = Experience\n",
    "Data_10"
   ]
  },
  {
   "cell_type": "code",
   "execution_count": null,
   "id": "ed7cba67",
   "metadata": {},
   "outputs": [],
   "source": []
  }
 ],
 "metadata": {
  "kernelspec": {
   "display_name": "Python 3 (ipykernel)",
   "language": "python",
   "name": "python3"
  },
  "language_info": {
   "codemirror_mode": {
    "name": "ipython",
    "version": 3
   },
   "file_extension": ".py",
   "mimetype": "text/x-python",
   "name": "python",
   "nbconvert_exporter": "python",
   "pygments_lexer": "ipython3",
   "version": "3.9.12"
  }
 },
 "nbformat": 4,
 "nbformat_minor": 5
}
